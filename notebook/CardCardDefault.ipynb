{
 "cells": [
  {
   "cell_type": "code",
   "execution_count": 132,
   "metadata": {
    "scrolled": true
   },
   "outputs": [],
   "source": [
    "%matplotlib inline\n",
    "import math\n",
    "import numpy as np\n",
    "import pandas as pd\n",
    "import scipy.stats as stats\n",
    "import matplotlib.pyplot as plt\n",
    "import matplotlib.gridspec as gridspec\n",
    "import seaborn as sns\n",
    "from matplotlib import style\n",
    "import matplotlib.mlab as mlab\n",
    "\n",
    "\n",
    "from collections import defaultdict\n",
    "from scipy.stats.stats import pearsonr\n",
    "\n",
    "style.use(\"seaborn-pastel\")\n",
    "plt.rcParams['axes.facecolor'] = 'white'\n",
    "plt.rcParams['figure.facecolor'] = 'white'\n",
    "plt.rcParams['axes.linewidth'] = 1\n",
    "plt.rcParams['axes.axisbelow'] = True\n",
    "plt.rcParams['axes.grid'] = True"
   ]
  },
  {
   "cell_type": "markdown",
   "metadata": {},
   "source": [
    "Load dataset\n",
    "==============="
   ]
  },
  {
   "cell_type": "code",
   "execution_count": 2,
   "metadata": {},
   "outputs": [
    {
     "data": {
      "text/html": [
       "<div>\n",
       "<style scoped>\n",
       "    .dataframe tbody tr th:only-of-type {\n",
       "        vertical-align: middle;\n",
       "    }\n",
       "\n",
       "    .dataframe tbody tr th {\n",
       "        vertical-align: top;\n",
       "    }\n",
       "\n",
       "    .dataframe thead th {\n",
       "        text-align: right;\n",
       "    }\n",
       "</style>\n",
       "<table border=\"1\" class=\"dataframe\">\n",
       "  <thead>\n",
       "    <tr style=\"text-align: right;\">\n",
       "      <th></th>\n",
       "      <th>limit</th>\n",
       "      <th>sex</th>\n",
       "      <th>education</th>\n",
       "      <th>status</th>\n",
       "      <th>age</th>\n",
       "      <th>ps-sep</th>\n",
       "      <th>ps-aug</th>\n",
       "      <th>ps-jul</th>\n",
       "      <th>ps-jun</th>\n",
       "      <th>ps-may</th>\n",
       "      <th>...</th>\n",
       "      <th>ba-jun</th>\n",
       "      <th>ba-may</th>\n",
       "      <th>ba-apr</th>\n",
       "      <th>pa-sep</th>\n",
       "      <th>pa-aug</th>\n",
       "      <th>pa-jul</th>\n",
       "      <th>pa-jun</th>\n",
       "      <th>pa-may</th>\n",
       "      <th>pa-apr</th>\n",
       "      <th>credit_default</th>\n",
       "    </tr>\n",
       "  </thead>\n",
       "  <tbody>\n",
       "    <tr>\n",
       "      <th>0</th>\n",
       "      <td>50000</td>\n",
       "      <td>male</td>\n",
       "      <td>graduate school</td>\n",
       "      <td>NaN</td>\n",
       "      <td>25</td>\n",
       "      <td>2</td>\n",
       "      <td>0</td>\n",
       "      <td>0</td>\n",
       "      <td>0</td>\n",
       "      <td>0</td>\n",
       "      <td>...</td>\n",
       "      <td>49535</td>\n",
       "      <td>30358</td>\n",
       "      <td>30302</td>\n",
       "      <td>2130</td>\n",
       "      <td>1905</td>\n",
       "      <td>1811</td>\n",
       "      <td>1100</td>\n",
       "      <td>1100</td>\n",
       "      <td>1200</td>\n",
       "      <td>no</td>\n",
       "    </tr>\n",
       "    <tr>\n",
       "      <th>1</th>\n",
       "      <td>200000</td>\n",
       "      <td>male</td>\n",
       "      <td>university</td>\n",
       "      <td>married</td>\n",
       "      <td>54</td>\n",
       "      <td>-1</td>\n",
       "      <td>-1</td>\n",
       "      <td>-1</td>\n",
       "      <td>-1</td>\n",
       "      <td>-1</td>\n",
       "      <td>...</td>\n",
       "      <td>6335</td>\n",
       "      <td>4616</td>\n",
       "      <td>7956</td>\n",
       "      <td>10120</td>\n",
       "      <td>7852</td>\n",
       "      <td>6336</td>\n",
       "      <td>4622</td>\n",
       "      <td>7956</td>\n",
       "      <td>5499</td>\n",
       "      <td>no</td>\n",
       "    </tr>\n",
       "    <tr>\n",
       "      <th>2</th>\n",
       "      <td>30000</td>\n",
       "      <td>female</td>\n",
       "      <td>high school</td>\n",
       "      <td>married</td>\n",
       "      <td>-1</td>\n",
       "      <td>2</td>\n",
       "      <td>3</td>\n",
       "      <td>2</td>\n",
       "      <td>2</td>\n",
       "      <td>2</td>\n",
       "      <td>...</td>\n",
       "      <td>30496</td>\n",
       "      <td>29731</td>\n",
       "      <td>29047</td>\n",
       "      <td>0</td>\n",
       "      <td>1700</td>\n",
       "      <td>1100</td>\n",
       "      <td>3</td>\n",
       "      <td>1053</td>\n",
       "      <td>1303</td>\n",
       "      <td>no</td>\n",
       "    </tr>\n",
       "    <tr>\n",
       "      <th>3</th>\n",
       "      <td>140000</td>\n",
       "      <td>female</td>\n",
       "      <td>university</td>\n",
       "      <td>single</td>\n",
       "      <td>-1</td>\n",
       "      <td>0</td>\n",
       "      <td>0</td>\n",
       "      <td>0</td>\n",
       "      <td>0</td>\n",
       "      <td>0</td>\n",
       "      <td>...</td>\n",
       "      <td>25224</td>\n",
       "      <td>26855</td>\n",
       "      <td>23783</td>\n",
       "      <td>2000</td>\n",
       "      <td>2000</td>\n",
       "      <td>900</td>\n",
       "      <td>2000</td>\n",
       "      <td>10000</td>\n",
       "      <td>5000</td>\n",
       "      <td>no</td>\n",
       "    </tr>\n",
       "    <tr>\n",
       "      <th>4</th>\n",
       "      <td>60000</td>\n",
       "      <td>female</td>\n",
       "      <td>high school</td>\n",
       "      <td>married</td>\n",
       "      <td>36</td>\n",
       "      <td>1</td>\n",
       "      <td>2</td>\n",
       "      <td>2</td>\n",
       "      <td>0</td>\n",
       "      <td>0</td>\n",
       "      <td>...</td>\n",
       "      <td>48738</td>\n",
       "      <td>49601</td>\n",
       "      <td>52773</td>\n",
       "      <td>1788</td>\n",
       "      <td>0</td>\n",
       "      <td>1894</td>\n",
       "      <td>1801</td>\n",
       "      <td>3997</td>\n",
       "      <td>0</td>\n",
       "      <td>yes</td>\n",
       "    </tr>\n",
       "  </tbody>\n",
       "</table>\n",
       "<p>5 rows × 24 columns</p>\n",
       "</div>"
      ],
      "text/plain": [
       "    limit     sex        education   status  age  ps-sep  ps-aug  ps-jul  \\\n",
       "0   50000    male  graduate school      NaN   25       2       0       0   \n",
       "1  200000    male       university  married   54      -1      -1      -1   \n",
       "2   30000  female      high school  married   -1       2       3       2   \n",
       "3  140000  female       university   single   -1       0       0       0   \n",
       "4   60000  female      high school  married   36       1       2       2   \n",
       "\n",
       "   ps-jun  ps-may       ...        ba-jun  ba-may  ba-apr  pa-sep  pa-aug  \\\n",
       "0       0       0       ...         49535   30358   30302    2130    1905   \n",
       "1      -1      -1       ...          6335    4616    7956   10120    7852   \n",
       "2       2       2       ...         30496   29731   29047       0    1700   \n",
       "3       0       0       ...         25224   26855   23783    2000    2000   \n",
       "4       0       0       ...         48738   49601   52773    1788       0   \n",
       "\n",
       "   pa-jul  pa-jun  pa-may  pa-apr  credit_default  \n",
       "0    1811    1100    1100    1200              no  \n",
       "1    6336    4622    7956    5499              no  \n",
       "2    1100       3    1053    1303              no  \n",
       "3     900    2000   10000    5000              no  \n",
       "4    1894    1801    3997       0             yes  \n",
       "\n",
       "[5 rows x 24 columns]"
      ]
     },
     "execution_count": 2,
     "metadata": {},
     "output_type": "execute_result"
    }
   ],
   "source": [
    "cc = pd.read_csv(\"../dataset/credit_default_train.csv\")\n",
    "cc.head()"
   ]
  },
  {
   "cell_type": "code",
   "execution_count": 3,
   "metadata": {},
   "outputs": [
    {
     "data": {
      "text/plain": [
       "10000"
      ]
     },
     "execution_count": 3,
     "metadata": {},
     "output_type": "execute_result"
    }
   ],
   "source": [
    "cc.shape[0]"
   ]
  },
  {
   "cell_type": "code",
   "execution_count": 4,
   "metadata": {},
   "outputs": [
    {
     "data": {
      "text/html": [
       "<div>\n",
       "<style scoped>\n",
       "    .dataframe tbody tr th:only-of-type {\n",
       "        vertical-align: middle;\n",
       "    }\n",
       "\n",
       "    .dataframe tbody tr th {\n",
       "        vertical-align: top;\n",
       "    }\n",
       "\n",
       "    .dataframe thead th {\n",
       "        text-align: right;\n",
       "    }\n",
       "</style>\n",
       "<table border=\"1\" class=\"dataframe\">\n",
       "  <thead>\n",
       "    <tr style=\"text-align: right;\">\n",
       "      <th></th>\n",
       "      <th>limit</th>\n",
       "      <th>age</th>\n",
       "      <th>ps-sep</th>\n",
       "      <th>ps-aug</th>\n",
       "      <th>ps-jul</th>\n",
       "      <th>ps-jun</th>\n",
       "      <th>ps-may</th>\n",
       "      <th>ps-apr</th>\n",
       "      <th>ba-sep</th>\n",
       "      <th>ba-aug</th>\n",
       "      <th>ba-jul</th>\n",
       "      <th>ba-jun</th>\n",
       "      <th>ba-may</th>\n",
       "      <th>ba-apr</th>\n",
       "      <th>pa-sep</th>\n",
       "      <th>pa-aug</th>\n",
       "      <th>pa-jul</th>\n",
       "      <th>pa-jun</th>\n",
       "      <th>pa-may</th>\n",
       "      <th>pa-apr</th>\n",
       "    </tr>\n",
       "  </thead>\n",
       "  <tbody>\n",
       "    <tr>\n",
       "      <th>count</th>\n",
       "      <td>10000.000000</td>\n",
       "      <td>10000.000000</td>\n",
       "      <td>10000.000000</td>\n",
       "      <td>10000.000000</td>\n",
       "      <td>10000.000000</td>\n",
       "      <td>10000.000000</td>\n",
       "      <td>10000.000000</td>\n",
       "      <td>10000.000000</td>\n",
       "      <td>10000.000000</td>\n",
       "      <td>10000.000000</td>\n",
       "      <td>10000.00000</td>\n",
       "      <td>10000.000000</td>\n",
       "      <td>10000.000000</td>\n",
       "      <td>10000.000000</td>\n",
       "      <td>10000.000000</td>\n",
       "      <td>1.000000e+04</td>\n",
       "      <td>10000.000000</td>\n",
       "      <td>10000.000000</td>\n",
       "      <td>10000.000000</td>\n",
       "      <td>10000.000000</td>\n",
       "    </tr>\n",
       "    <tr>\n",
       "      <th>mean</th>\n",
       "      <td>167197.000000</td>\n",
       "      <td>32.020200</td>\n",
       "      <td>-0.004000</td>\n",
       "      <td>-0.127800</td>\n",
       "      <td>-0.175700</td>\n",
       "      <td>-0.234300</td>\n",
       "      <td>-0.263700</td>\n",
       "      <td>-0.297400</td>\n",
       "      <td>51490.704100</td>\n",
       "      <td>49239.438400</td>\n",
       "      <td>46957.46680</td>\n",
       "      <td>43306.114300</td>\n",
       "      <td>40182.130200</td>\n",
       "      <td>38621.582700</td>\n",
       "      <td>5651.344900</td>\n",
       "      <td>5.973676e+03</td>\n",
       "      <td>5131.898600</td>\n",
       "      <td>4719.769200</td>\n",
       "      <td>4734.702900</td>\n",
       "      <td>5480.147400</td>\n",
       "    </tr>\n",
       "    <tr>\n",
       "      <th>std</th>\n",
       "      <td>128975.488596</td>\n",
       "      <td>13.843119</td>\n",
       "      <td>1.132834</td>\n",
       "      <td>1.200921</td>\n",
       "      <td>1.193554</td>\n",
       "      <td>1.169333</td>\n",
       "      <td>1.147386</td>\n",
       "      <td>1.147295</td>\n",
       "      <td>73740.383345</td>\n",
       "      <td>70777.470286</td>\n",
       "      <td>68948.62697</td>\n",
       "      <td>64519.910263</td>\n",
       "      <td>60732.330157</td>\n",
       "      <td>59325.339137</td>\n",
       "      <td>15835.839092</td>\n",
       "      <td>2.251175e+04</td>\n",
       "      <td>15416.402957</td>\n",
       "      <td>14483.407778</td>\n",
       "      <td>14912.375475</td>\n",
       "      <td>19361.411204</td>\n",
       "    </tr>\n",
       "    <tr>\n",
       "      <th>min</th>\n",
       "      <td>10000.000000</td>\n",
       "      <td>-1.000000</td>\n",
       "      <td>-2.000000</td>\n",
       "      <td>-2.000000</td>\n",
       "      <td>-2.000000</td>\n",
       "      <td>-2.000000</td>\n",
       "      <td>-2.000000</td>\n",
       "      <td>-2.000000</td>\n",
       "      <td>-14386.000000</td>\n",
       "      <td>-69777.000000</td>\n",
       "      <td>-61506.00000</td>\n",
       "      <td>-24303.000000</td>\n",
       "      <td>-81334.000000</td>\n",
       "      <td>-209051.000000</td>\n",
       "      <td>0.000000</td>\n",
       "      <td>0.000000e+00</td>\n",
       "      <td>0.000000</td>\n",
       "      <td>0.000000</td>\n",
       "      <td>0.000000</td>\n",
       "      <td>0.000000</td>\n",
       "    </tr>\n",
       "    <tr>\n",
       "      <th>25%</th>\n",
       "      <td>50000.000000</td>\n",
       "      <td>26.000000</td>\n",
       "      <td>-1.000000</td>\n",
       "      <td>-1.000000</td>\n",
       "      <td>-1.000000</td>\n",
       "      <td>-1.000000</td>\n",
       "      <td>-1.000000</td>\n",
       "      <td>-1.000000</td>\n",
       "      <td>3545.250000</td>\n",
       "      <td>2899.250000</td>\n",
       "      <td>2442.50000</td>\n",
       "      <td>2203.250000</td>\n",
       "      <td>1650.000000</td>\n",
       "      <td>1150.000000</td>\n",
       "      <td>997.000000</td>\n",
       "      <td>7.800000e+02</td>\n",
       "      <td>390.000000</td>\n",
       "      <td>261.500000</td>\n",
       "      <td>200.000000</td>\n",
       "      <td>100.000000</td>\n",
       "    </tr>\n",
       "    <tr>\n",
       "      <th>50%</th>\n",
       "      <td>140000.000000</td>\n",
       "      <td>33.000000</td>\n",
       "      <td>0.000000</td>\n",
       "      <td>0.000000</td>\n",
       "      <td>0.000000</td>\n",
       "      <td>0.000000</td>\n",
       "      <td>0.000000</td>\n",
       "      <td>0.000000</td>\n",
       "      <td>22246.000000</td>\n",
       "      <td>21202.000000</td>\n",
       "      <td>19905.50000</td>\n",
       "      <td>19072.000000</td>\n",
       "      <td>18071.000000</td>\n",
       "      <td>16977.000000</td>\n",
       "      <td>2081.500000</td>\n",
       "      <td>2.000000e+03</td>\n",
       "      <td>1800.000000</td>\n",
       "      <td>1500.000000</td>\n",
       "      <td>1500.000000</td>\n",
       "      <td>1500.000000</td>\n",
       "    </tr>\n",
       "    <tr>\n",
       "      <th>75%</th>\n",
       "      <td>240000.000000</td>\n",
       "      <td>40.000000</td>\n",
       "      <td>0.000000</td>\n",
       "      <td>0.000000</td>\n",
       "      <td>0.000000</td>\n",
       "      <td>0.000000</td>\n",
       "      <td>0.000000</td>\n",
       "      <td>0.000000</td>\n",
       "      <td>67681.000000</td>\n",
       "      <td>64412.750000</td>\n",
       "      <td>60164.75000</td>\n",
       "      <td>54093.750000</td>\n",
       "      <td>49906.500000</td>\n",
       "      <td>48680.750000</td>\n",
       "      <td>5019.000000</td>\n",
       "      <td>5.000000e+03</td>\n",
       "      <td>4500.000000</td>\n",
       "      <td>4000.000000</td>\n",
       "      <td>4000.000000</td>\n",
       "      <td>4000.000000</td>\n",
       "    </tr>\n",
       "    <tr>\n",
       "      <th>max</th>\n",
       "      <td>780000.000000</td>\n",
       "      <td>75.000000</td>\n",
       "      <td>8.000000</td>\n",
       "      <td>7.000000</td>\n",
       "      <td>8.000000</td>\n",
       "      <td>8.000000</td>\n",
       "      <td>8.000000</td>\n",
       "      <td>8.000000</td>\n",
       "      <td>613860.000000</td>\n",
       "      <td>605943.000000</td>\n",
       "      <td>597415.00000</td>\n",
       "      <td>616836.000000</td>\n",
       "      <td>587067.000000</td>\n",
       "      <td>568638.000000</td>\n",
       "      <td>493358.000000</td>\n",
       "      <td>1.227082e+06</td>\n",
       "      <td>417588.000000</td>\n",
       "      <td>292962.000000</td>\n",
       "      <td>417990.000000</td>\n",
       "      <td>528666.000000</td>\n",
       "    </tr>\n",
       "  </tbody>\n",
       "</table>\n",
       "</div>"
      ],
      "text/plain": [
       "               limit           age        ps-sep        ps-aug        ps-jul  \\\n",
       "count   10000.000000  10000.000000  10000.000000  10000.000000  10000.000000   \n",
       "mean   167197.000000     32.020200     -0.004000     -0.127800     -0.175700   \n",
       "std    128975.488596     13.843119      1.132834      1.200921      1.193554   \n",
       "min     10000.000000     -1.000000     -2.000000     -2.000000     -2.000000   \n",
       "25%     50000.000000     26.000000     -1.000000     -1.000000     -1.000000   \n",
       "50%    140000.000000     33.000000      0.000000      0.000000      0.000000   \n",
       "75%    240000.000000     40.000000      0.000000      0.000000      0.000000   \n",
       "max    780000.000000     75.000000      8.000000      7.000000      8.000000   \n",
       "\n",
       "             ps-jun        ps-may        ps-apr         ba-sep         ba-aug  \\\n",
       "count  10000.000000  10000.000000  10000.000000   10000.000000   10000.000000   \n",
       "mean      -0.234300     -0.263700     -0.297400   51490.704100   49239.438400   \n",
       "std        1.169333      1.147386      1.147295   73740.383345   70777.470286   \n",
       "min       -2.000000     -2.000000     -2.000000  -14386.000000  -69777.000000   \n",
       "25%       -1.000000     -1.000000     -1.000000    3545.250000    2899.250000   \n",
       "50%        0.000000      0.000000      0.000000   22246.000000   21202.000000   \n",
       "75%        0.000000      0.000000      0.000000   67681.000000   64412.750000   \n",
       "max        8.000000      8.000000      8.000000  613860.000000  605943.000000   \n",
       "\n",
       "             ba-jul         ba-jun         ba-may         ba-apr  \\\n",
       "count   10000.00000   10000.000000   10000.000000   10000.000000   \n",
       "mean    46957.46680   43306.114300   40182.130200   38621.582700   \n",
       "std     68948.62697   64519.910263   60732.330157   59325.339137   \n",
       "min    -61506.00000  -24303.000000  -81334.000000 -209051.000000   \n",
       "25%      2442.50000    2203.250000    1650.000000    1150.000000   \n",
       "50%     19905.50000   19072.000000   18071.000000   16977.000000   \n",
       "75%     60164.75000   54093.750000   49906.500000   48680.750000   \n",
       "max    597415.00000  616836.000000  587067.000000  568638.000000   \n",
       "\n",
       "              pa-sep        pa-aug         pa-jul         pa-jun  \\\n",
       "count   10000.000000  1.000000e+04   10000.000000   10000.000000   \n",
       "mean     5651.344900  5.973676e+03    5131.898600    4719.769200   \n",
       "std     15835.839092  2.251175e+04   15416.402957   14483.407778   \n",
       "min         0.000000  0.000000e+00       0.000000       0.000000   \n",
       "25%       997.000000  7.800000e+02     390.000000     261.500000   \n",
       "50%      2081.500000  2.000000e+03    1800.000000    1500.000000   \n",
       "75%      5019.000000  5.000000e+03    4500.000000    4000.000000   \n",
       "max    493358.000000  1.227082e+06  417588.000000  292962.000000   \n",
       "\n",
       "              pa-may         pa-apr  \n",
       "count   10000.000000   10000.000000  \n",
       "mean     4734.702900    5480.147400  \n",
       "std     14912.375475   19361.411204  \n",
       "min         0.000000       0.000000  \n",
       "25%       200.000000     100.000000  \n",
       "50%      1500.000000    1500.000000  \n",
       "75%      4000.000000    4000.000000  \n",
       "max    417990.000000  528666.000000  "
      ]
     },
     "execution_count": 4,
     "metadata": {},
     "output_type": "execute_result"
    }
   ],
   "source": [
    "cc.describe()"
   ]
  },
  {
   "cell_type": "code",
   "execution_count": 5,
   "metadata": {
    "scrolled": true
   },
   "outputs": [
    {
     "data": {
      "text/plain": [
       "limit                0\n",
       "sex                100\n",
       "education          127\n",
       "status            1822\n",
       "age                  0\n",
       "ps-sep               0\n",
       "ps-aug               0\n",
       "ps-jul               0\n",
       "ps-jun               0\n",
       "ps-may               0\n",
       "ps-apr               0\n",
       "ba-sep               0\n",
       "ba-aug               0\n",
       "ba-jul               0\n",
       "ba-jun               0\n",
       "ba-may               0\n",
       "ba-apr               0\n",
       "pa-sep               0\n",
       "pa-aug               0\n",
       "pa-jul               0\n",
       "pa-jun               0\n",
       "pa-may               0\n",
       "pa-apr               0\n",
       "credit_default       0\n",
       "dtype: int64"
      ]
     },
     "execution_count": 5,
     "metadata": {},
     "output_type": "execute_result"
    }
   ],
   "source": [
    "cc.isnull().sum()"
   ]
  },
  {
   "cell_type": "markdown",
   "metadata": {},
   "source": [
    "Data understanding\n",
    "==============="
   ]
  },
  {
   "cell_type": "markdown",
   "metadata": {},
   "source": [
    "Credit default\n",
    "--------------------"
   ]
  },
  {
   "cell_type": "code",
   "execution_count": 6,
   "metadata": {},
   "outputs": [
    {
     "data": {
      "text/plain": [
       "count     10000\n",
       "unique        2\n",
       "top          no\n",
       "freq       7788\n",
       "Name: credit_default, dtype: object"
      ]
     },
     "execution_count": 6,
     "metadata": {},
     "output_type": "execute_result"
    }
   ],
   "source": [
    "cc['credit_default'].describe()"
   ]
  },
  {
   "cell_type": "code",
   "execution_count": 7,
   "metadata": {},
   "outputs": [
    {
     "data": {
      "text/plain": [
       "array(['no', 'yes'], dtype=object)"
      ]
     },
     "execution_count": 7,
     "metadata": {},
     "output_type": "execute_result"
    }
   ],
   "source": [
    "cc['credit_default'].unique()"
   ]
  },
  {
   "cell_type": "code",
   "execution_count": 88,
   "metadata": {},
   "outputs": [
    {
     "data": {
      "image/png": "[encoded data removed]",
      "text/plain": [
       "<Figure size 432x288 with 1 Axes>"
      ]
     },
     "metadata": {},
     "output_type": "display_data"
    }
   ],
   "source": [
    "cc['credit_default'].value_counts().plot(kind='bar', title='Credit card default', edgecolor='black')\n",
    "plt.ylabel('Credit default')\n",
    "plt.xticks(rotation=0)\n",
    "plt.show()"
   ]
  },
  {
   "cell_type": "markdown",
   "metadata": {},
   "source": [
    "Sex\n",
    "--------"
   ]
  },
  {
   "cell_type": "code",
   "execution_count": 9,
   "metadata": {},
   "outputs": [
    {
     "data": {
      "text/plain": [
       "count       9900\n",
       "unique         2\n",
       "top       female\n",
       "freq        6032\n",
       "Name: sex, dtype: object"
      ]
     },
     "execution_count": 9,
     "metadata": {},
     "output_type": "execute_result"
    }
   ],
   "source": [
    "cc['sex'].describe()"
   ]
  },
  {
   "cell_type": "code",
   "execution_count": 10,
   "metadata": {},
   "outputs": [
    {
     "data": {
      "text/plain": [
       "female    6032\n",
       "male      3868\n",
       "Name: sex, dtype: int64"
      ]
     },
     "execution_count": 10,
     "metadata": {},
     "output_type": "execute_result"
    }
   ],
   "source": [
    "cc['sex'].value_counts()"
   ]
  },
  {
   "cell_type": "code",
   "execution_count": 11,
   "metadata": {},
   "outputs": [
    {
     "data": {
      "text/plain": [
       "array(['male', 'female', nan], dtype=object)"
      ]
     },
     "execution_count": 11,
     "metadata": {},
     "output_type": "execute_result"
    }
   ],
   "source": [
    "cc['sex'].unique()"
   ]
  },
  {
   "cell_type": "code",
   "execution_count": 12,
   "metadata": {},
   "outputs": [
    {
     "data": {
      "text/plain": [
       "100"
      ]
     },
     "execution_count": 12,
     "metadata": {},
     "output_type": "execute_result"
    }
   ],
   "source": [
    "cc.isnull().sum()['sex']"
   ]
  },
  {
   "cell_type": "code",
   "execution_count": 13,
   "metadata": {},
   "outputs": [
    {
     "data": {
      "text/html": [
       "<div>\n",
       "<style scoped>\n",
       "    .dataframe tbody tr th:only-of-type {\n",
       "        vertical-align: middle;\n",
       "    }\n",
       "\n",
       "    .dataframe tbody tr th {\n",
       "        vertical-align: top;\n",
       "    }\n",
       "\n",
       "    .dataframe thead th {\n",
       "        text-align: right;\n",
       "    }\n",
       "</style>\n",
       "<table border=\"1\" class=\"dataframe\">\n",
       "  <thead>\n",
       "    <tr style=\"text-align: right;\">\n",
       "      <th>credit_default</th>\n",
       "      <th>no</th>\n",
       "      <th>yes</th>\n",
       "    </tr>\n",
       "    <tr>\n",
       "      <th>sex</th>\n",
       "      <th></th>\n",
       "      <th></th>\n",
       "    </tr>\n",
       "  </thead>\n",
       "  <tbody>\n",
       "    <tr>\n",
       "      <th>female</th>\n",
       "      <td>4803</td>\n",
       "      <td>1229</td>\n",
       "    </tr>\n",
       "    <tr>\n",
       "      <th>male</th>\n",
       "      <td>2904</td>\n",
       "      <td>964</td>\n",
       "    </tr>\n",
       "  </tbody>\n",
       "</table>\n",
       "</div>"
      ],
      "text/plain": [
       "credit_default    no   yes\n",
       "sex                       \n",
       "female          4803  1229\n",
       "male            2904   964"
      ]
     },
     "execution_count": 13,
     "metadata": {},
     "output_type": "execute_result"
    }
   ],
   "source": [
    "sex_default = pd.crosstab(cc['sex'], cc['credit_default'])\n",
    "sex_default"
   ]
  },
  {
   "cell_type": "code",
   "execution_count": 87,
   "metadata": {},
   "outputs": [
    {
     "data": {
      "image/png": "[encoded data removed]",
      "text/plain": [
       "<Figure size 432x288 with 1 Axes>"
      ]
     },
     "metadata": {},
     "output_type": "display_data"
    }
   ],
   "source": [
    "sex_default.plot(kind='bar', stacked=True, title='Credit card default by Customer sex', edgecolor='black')\n",
    "plt.xlabel('Customer sex')\n",
    "plt.ylabel('Default rate')\n",
    "plt.xticks(rotation=0)\n",
    "plt.show()"
   ]
  },
  {
   "cell_type": "code",
   "execution_count": 15,
   "metadata": {},
   "outputs": [
    {
     "data": {
      "text/html": [
       "<div>\n",
       "<style scoped>\n",
       "    .dataframe tbody tr th:only-of-type {\n",
       "        vertical-align: middle;\n",
       "    }\n",
       "\n",
       "    .dataframe tbody tr th {\n",
       "        vertical-align: top;\n",
       "    }\n",
       "\n",
       "    .dataframe thead th {\n",
       "        text-align: right;\n",
       "    }\n",
       "</style>\n",
       "<table border=\"1\" class=\"dataframe\">\n",
       "  <thead>\n",
       "    <tr style=\"text-align: right;\">\n",
       "      <th>credit_default</th>\n",
       "      <th>no</th>\n",
       "      <th>yes</th>\n",
       "    </tr>\n",
       "    <tr>\n",
       "      <th>sex</th>\n",
       "      <th></th>\n",
       "      <th></th>\n",
       "    </tr>\n",
       "  </thead>\n",
       "  <tbody>\n",
       "    <tr>\n",
       "      <th>female</th>\n",
       "      <td>0.796253</td>\n",
       "      <td>0.203747</td>\n",
       "    </tr>\n",
       "    <tr>\n",
       "      <th>male</th>\n",
       "      <td>0.750776</td>\n",
       "      <td>0.249224</td>\n",
       "    </tr>\n",
       "  </tbody>\n",
       "</table>\n",
       "</div>"
      ],
      "text/plain": [
       "credit_default        no       yes\n",
       "sex                               \n",
       "female          0.796253  0.203747\n",
       "male            0.750776  0.249224"
      ]
     },
     "execution_count": 15,
     "metadata": {},
     "output_type": "execute_result"
    }
   ],
   "source": [
    "sex_default_norm = sex_default.div(sex_default.sum(1).astype(float), axis=0)\n",
    "sex_default_norm"
   ]
  },
  {
   "cell_type": "code",
   "execution_count": 89,
   "metadata": {},
   "outputs": [
    {
     "data": {
      "image/png": "[encoded data removed]",
      "text/plain": [
       "<Figure size 432x288 with 1 Axes>"
      ]
     },
     "metadata": {},
     "output_type": "display_data"
    }
   ],
   "source": [
    "sex_default_norm.plot(kind='bar', stacked=True, title='Credit card default by Customer sex', edgecolor='black')\n",
    "plt.xlabel('Customer sex')\n",
    "plt.ylabel('Default rate normalized')\n",
    "plt.xticks(rotation=0)\n",
    "plt.show()"
   ]
  },
  {
   "cell_type": "markdown",
   "metadata": {},
   "source": [
    "Education\n",
    "--------"
   ]
  },
  {
   "cell_type": "code",
   "execution_count": 17,
   "metadata": {},
   "outputs": [
    {
     "data": {
      "text/plain": [
       "count           9873\n",
       "unique             4\n",
       "top       university\n",
       "freq            4685\n",
       "Name: education, dtype: object"
      ]
     },
     "execution_count": 17,
     "metadata": {},
     "output_type": "execute_result"
    }
   ],
   "source": [
    "cc['education'].describe()"
   ]
  },
  {
   "cell_type": "code",
   "execution_count": 77,
   "metadata": {},
   "outputs": [
    {
     "data": {
      "text/plain": [
       "university         4685\n",
       "graduate school    3480\n",
       "high school        1672\n",
       "others               36\n",
       "Name: education, dtype: int64"
      ]
     },
     "execution_count": 77,
     "metadata": {},
     "output_type": "execute_result"
    }
   ],
   "source": [
    "cc['education'].value_counts()"
   ]
  },
  {
   "cell_type": "code",
   "execution_count": 19,
   "metadata": {},
   "outputs": [
    {
     "data": {
      "text/plain": [
       "127"
      ]
     },
     "execution_count": 19,
     "metadata": {},
     "output_type": "execute_result"
    }
   ],
   "source": [
    "cc.isnull().sum()['education']"
   ]
  },
  {
   "cell_type": "code",
   "execution_count": 20,
   "metadata": {},
   "outputs": [
    {
     "data": {
      "text/html": [
       "<div>\n",
       "<style scoped>\n",
       "    .dataframe tbody tr th:only-of-type {\n",
       "        vertical-align: middle;\n",
       "    }\n",
       "\n",
       "    .dataframe tbody tr th {\n",
       "        vertical-align: top;\n",
       "    }\n",
       "\n",
       "    .dataframe thead th {\n",
       "        text-align: right;\n",
       "    }\n",
       "</style>\n",
       "<table border=\"1\" class=\"dataframe\">\n",
       "  <thead>\n",
       "    <tr style=\"text-align: right;\">\n",
       "      <th>credit_default</th>\n",
       "      <th>no</th>\n",
       "      <th>yes</th>\n",
       "    </tr>\n",
       "    <tr>\n",
       "      <th>education</th>\n",
       "      <th></th>\n",
       "      <th></th>\n",
       "    </tr>\n",
       "  </thead>\n",
       "  <tbody>\n",
       "    <tr>\n",
       "      <th>graduate school</th>\n",
       "      <td>2813</td>\n",
       "      <td>667</td>\n",
       "    </tr>\n",
       "    <tr>\n",
       "      <th>high school</th>\n",
       "      <td>1286</td>\n",
       "      <td>386</td>\n",
       "    </tr>\n",
       "    <tr>\n",
       "      <th>others</th>\n",
       "      <td>34</td>\n",
       "      <td>2</td>\n",
       "    </tr>\n",
       "    <tr>\n",
       "      <th>university</th>\n",
       "      <td>3534</td>\n",
       "      <td>1151</td>\n",
       "    </tr>\n",
       "  </tbody>\n",
       "</table>\n",
       "</div>"
      ],
      "text/plain": [
       "credit_default     no   yes\n",
       "education                  \n",
       "graduate school  2813   667\n",
       "high school      1286   386\n",
       "others             34     2\n",
       "university       3534  1151"
      ]
     },
     "execution_count": 20,
     "metadata": {},
     "output_type": "execute_result"
    }
   ],
   "source": [
    "education_default = pd.crosstab(cc['education'], cc['credit_default'])\n",
    "education_default"
   ]
  },
  {
   "cell_type": "code",
   "execution_count": 90,
   "metadata": {},
   "outputs": [
    {
     "data": {
      "image/png": "[encoded data removed]",
      "text/plain": [
       "<Figure size 432x288 with 1 Axes>"
      ]
     },
     "metadata": {},
     "output_type": "display_data"
    }
   ],
   "source": [
    "education_default.plot(kind='bar', stacked=True, title='Credit card default by customer education', edgecolor='black')\n",
    "plt.xlabel('Education')\n",
    "plt.ylabel('Default rate')\n",
    "plt.xticks(rotation=0)\n",
    "plt.show()"
   ]
  },
  {
   "cell_type": "code",
   "execution_count": 22,
   "metadata": {},
   "outputs": [
    {
     "data": {
      "text/html": [
       "<div>\n",
       "<style scoped>\n",
       "    .dataframe tbody tr th:only-of-type {\n",
       "        vertical-align: middle;\n",
       "    }\n",
       "\n",
       "    .dataframe tbody tr th {\n",
       "        vertical-align: top;\n",
       "    }\n",
       "\n",
       "    .dataframe thead th {\n",
       "        text-align: right;\n",
       "    }\n",
       "</style>\n",
       "<table border=\"1\" class=\"dataframe\">\n",
       "  <thead>\n",
       "    <tr style=\"text-align: right;\">\n",
       "      <th>credit_default</th>\n",
       "      <th>no</th>\n",
       "      <th>yes</th>\n",
       "    </tr>\n",
       "    <tr>\n",
       "      <th>education</th>\n",
       "      <th></th>\n",
       "      <th></th>\n",
       "    </tr>\n",
       "  </thead>\n",
       "  <tbody>\n",
       "    <tr>\n",
       "      <th>graduate school</th>\n",
       "      <td>0.808333</td>\n",
       "      <td>0.191667</td>\n",
       "    </tr>\n",
       "    <tr>\n",
       "      <th>high school</th>\n",
       "      <td>0.769139</td>\n",
       "      <td>0.230861</td>\n",
       "    </tr>\n",
       "    <tr>\n",
       "      <th>others</th>\n",
       "      <td>0.944444</td>\n",
       "      <td>0.055556</td>\n",
       "    </tr>\n",
       "    <tr>\n",
       "      <th>university</th>\n",
       "      <td>0.754322</td>\n",
       "      <td>0.245678</td>\n",
       "    </tr>\n",
       "  </tbody>\n",
       "</table>\n",
       "</div>"
      ],
      "text/plain": [
       "credit_default         no       yes\n",
       "education                          \n",
       "graduate school  0.808333  0.191667\n",
       "high school      0.769139  0.230861\n",
       "others           0.944444  0.055556\n",
       "university       0.754322  0.245678"
      ]
     },
     "execution_count": 22,
     "metadata": {},
     "output_type": "execute_result"
    }
   ],
   "source": [
    "education_default_norm = education_default.div(education_default.sum(1).astype(float), axis=0)\n",
    "education_default_norm"
   ]
  },
  {
   "cell_type": "code",
   "execution_count": 91,
   "metadata": {},
   "outputs": [
    {
     "data": {
      "image/png": "[encoded data removed]",
      "text/plain": [
       "<Figure size 432x288 with 1 Axes>"
      ]
     },
     "metadata": {},
     "output_type": "display_data"
    }
   ],
   "source": [
    "education_default_norm.plot(kind='bar', stacked=True, title='Credit card default by customer education', edgecolor='black')\n",
    "plt.xlabel('Education')\n",
    "plt.ylabel('Default rate normalized')\n",
    "plt.xticks(rotation=0)\n",
    "plt.show()"
   ]
  },
  {
   "cell_type": "markdown",
   "metadata": {},
   "source": [
    "Status\n",
    "--------"
   ]
  },
  {
   "cell_type": "code",
   "execution_count": 24,
   "metadata": {},
   "outputs": [
    {
     "data": {
      "text/plain": [
       "count       8178\n",
       "unique         3\n",
       "top       single\n",
       "freq        4346\n",
       "Name: status, dtype: object"
      ]
     },
     "execution_count": 24,
     "metadata": {},
     "output_type": "execute_result"
    }
   ],
   "source": [
    "cc['status'].describe()"
   ]
  },
  {
   "cell_type": "code",
   "execution_count": 118,
   "metadata": {},
   "outputs": [
    {
     "data": {
      "text/plain": [
       "single     4346\n",
       "married    3757\n",
       "others       75\n",
       "Name: status, dtype: int64"
      ]
     },
     "execution_count": 118,
     "metadata": {},
     "output_type": "execute_result"
    }
   ],
   "source": [
    "cc['status'].value_counts()"
   ]
  },
  {
   "cell_type": "code",
   "execution_count": 26,
   "metadata": {},
   "outputs": [
    {
     "data": {
      "text/plain": [
       "1822"
      ]
     },
     "execution_count": 26,
     "metadata": {},
     "output_type": "execute_result"
    }
   ],
   "source": [
    "cc.isnull().sum()['status']"
   ]
  },
  {
   "cell_type": "code",
   "execution_count": 27,
   "metadata": {},
   "outputs": [
    {
     "data": {
      "text/html": [
       "<div>\n",
       "<style scoped>\n",
       "    .dataframe tbody tr th:only-of-type {\n",
       "        vertical-align: middle;\n",
       "    }\n",
       "\n",
       "    .dataframe tbody tr th {\n",
       "        vertical-align: top;\n",
       "    }\n",
       "\n",
       "    .dataframe thead th {\n",
       "        text-align: right;\n",
       "    }\n",
       "</style>\n",
       "<table border=\"1\" class=\"dataframe\">\n",
       "  <thead>\n",
       "    <tr style=\"text-align: right;\">\n",
       "      <th>credit_default</th>\n",
       "      <th>no</th>\n",
       "      <th>yes</th>\n",
       "    </tr>\n",
       "    <tr>\n",
       "      <th>status</th>\n",
       "      <th></th>\n",
       "      <th></th>\n",
       "    </tr>\n",
       "  </thead>\n",
       "  <tbody>\n",
       "    <tr>\n",
       "      <th>married</th>\n",
       "      <td>2888</td>\n",
       "      <td>869</td>\n",
       "    </tr>\n",
       "    <tr>\n",
       "      <th>others</th>\n",
       "      <td>50</td>\n",
       "      <td>25</td>\n",
       "    </tr>\n",
       "    <tr>\n",
       "      <th>single</th>\n",
       "      <td>3458</td>\n",
       "      <td>888</td>\n",
       "    </tr>\n",
       "  </tbody>\n",
       "</table>\n",
       "</div>"
      ],
      "text/plain": [
       "credit_default    no  yes\n",
       "status                   \n",
       "married         2888  869\n",
       "others            50   25\n",
       "single          3458  888"
      ]
     },
     "execution_count": 27,
     "metadata": {},
     "output_type": "execute_result"
    }
   ],
   "source": [
    "status_default = pd.crosstab(cc['status'], cc['credit_default'])\n",
    "status_default"
   ]
  },
  {
   "cell_type": "code",
   "execution_count": 92,
   "metadata": {
    "scrolled": false
   },
   "outputs": [
    {
     "data": {
      "image/png": "[encoded data removed]",
      "text/plain": [
       "<Figure size 432x288 with 1 Axes>"
      ]
     },
     "metadata": {},
     "output_type": "display_data"
    }
   ],
   "source": [
    "status_default.plot(kind='bar', stacked=True, title='Credit card default by customer status', edgecolor='black')\n",
    "plt.xlabel('Status')\n",
    "plt.ylabel('Default rate')\n",
    "plt.xticks(rotation=0)\n",
    "plt.show()"
   ]
  },
  {
   "cell_type": "code",
   "execution_count": 29,
   "metadata": {
    "scrolled": true
   },
   "outputs": [
    {
     "data": {
      "text/html": [
       "<div>\n",
       "<style scoped>\n",
       "    .dataframe tbody tr th:only-of-type {\n",
       "        vertical-align: middle;\n",
       "    }\n",
       "\n",
       "    .dataframe tbody tr th {\n",
       "        vertical-align: top;\n",
       "    }\n",
       "\n",
       "    .dataframe thead th {\n",
       "        text-align: right;\n",
       "    }\n",
       "</style>\n",
       "<table border=\"1\" class=\"dataframe\">\n",
       "  <thead>\n",
       "    <tr style=\"text-align: right;\">\n",
       "      <th>credit_default</th>\n",
       "      <th>no</th>\n",
       "      <th>yes</th>\n",
       "    </tr>\n",
       "    <tr>\n",
       "      <th>status</th>\n",
       "      <th></th>\n",
       "      <th></th>\n",
       "    </tr>\n",
       "  </thead>\n",
       "  <tbody>\n",
       "    <tr>\n",
       "      <th>married</th>\n",
       "      <td>0.768698</td>\n",
       "      <td>0.231302</td>\n",
       "    </tr>\n",
       "    <tr>\n",
       "      <th>others</th>\n",
       "      <td>0.666667</td>\n",
       "      <td>0.333333</td>\n",
       "    </tr>\n",
       "    <tr>\n",
       "      <th>single</th>\n",
       "      <td>0.795674</td>\n",
       "      <td>0.204326</td>\n",
       "    </tr>\n",
       "  </tbody>\n",
       "</table>\n",
       "</div>"
      ],
      "text/plain": [
       "credit_default        no       yes\n",
       "status                            \n",
       "married         0.768698  0.231302\n",
       "others          0.666667  0.333333\n",
       "single          0.795674  0.204326"
      ]
     },
     "execution_count": 29,
     "metadata": {},
     "output_type": "execute_result"
    }
   ],
   "source": [
    "status_default_norm = status_default.div(status_default.sum(1).astype(float), axis=0)\n",
    "status_default_norm"
   ]
  },
  {
   "cell_type": "code",
   "execution_count": 93,
   "metadata": {},
   "outputs": [
    {
     "data": {
      "image/png": "[encoded data removed]",
      "text/plain": [
       "<Figure size 432x288 with 1 Axes>"
      ]
     },
     "metadata": {},
     "output_type": "display_data"
    }
   ],
   "source": [
    "status_default_norm.plot(kind='bar', stacked=True, title='Credit card default by customer status', edgecolor='black')\n",
    "plt.xlabel('Status')\n",
    "plt.ylabel('Default rate normalized')\n",
    "plt.xticks(rotation=0)\n",
    "plt.show()"
   ]
  },
  {
   "cell_type": "markdown",
   "metadata": {},
   "source": [
    "Age\n",
    "--------"
   ]
  },
  {
   "cell_type": "code",
   "execution_count": 31,
   "metadata": {},
   "outputs": [
    {
     "data": {
      "text/plain": [
       "count    10000.000000\n",
       "mean        32.020200\n",
       "std         13.843119\n",
       "min         -1.000000\n",
       "25%         26.000000\n",
       "50%         33.000000\n",
       "75%         40.000000\n",
       "max         75.000000\n",
       "Name: age, dtype: float64"
      ]
     },
     "execution_count": 31,
     "metadata": {},
     "output_type": "execute_result"
    }
   ],
   "source": [
    "ages = cc['age'].copy()\n",
    "ages.describe()"
   ]
  },
  {
   "cell_type": "code",
   "execution_count": 32,
   "metadata": {},
   "outputs": [
    {
     "data": {
      "text/plain": [
       "array([-1, 21, 22, 23, 24, 25, 26, 27, 28, 29, 30, 31, 32, 33, 34, 35, 36,\n",
       "       37, 38, 39, 40, 41, 42, 43, 44, 45, 46, 47, 48, 49, 50, 51, 52, 53,\n",
       "       54, 55, 56, 57, 58, 59, 60, 61, 62, 63, 64, 65, 66, 67, 68, 69, 70,\n",
       "       71, 72, 73, 75])"
      ]
     },
     "execution_count": 32,
     "metadata": {},
     "output_type": "execute_result"
    }
   ],
   "source": [
    "ages_unique = ages.unique()\n",
    "ages_unique.sort()\n",
    "ages_unique"
   ]
  },
  {
   "cell_type": "code",
   "execution_count": 33,
   "metadata": {},
   "outputs": [
    {
     "data": {
      "text/plain": [
       "55"
      ]
     },
     "execution_count": 33,
     "metadata": {},
     "output_type": "execute_result"
    }
   ],
   "source": [
    "len(ages_unique)"
   ]
  },
  {
   "cell_type": "code",
   "execution_count": 34,
   "metadata": {},
   "outputs": [
    {
     "data": {
      "text/plain": [
       "951"
      ]
     },
     "execution_count": 34,
     "metadata": {},
     "output_type": "execute_result"
    }
   ],
   "source": [
    "ages_invalid = cc[cc['age']==-1]\n",
    "ages_invalid.shape[0]"
   ]
  },
  {
   "cell_type": "code",
   "execution_count": 35,
   "metadata": {},
   "outputs": [
    {
     "data": {
      "text/plain": [
       "9049"
      ]
     },
     "execution_count": 35,
     "metadata": {},
     "output_type": "execute_result"
    }
   ],
   "source": [
    "ages_valid = cc[cc['age']>0]\n",
    "ages_valid.shape[0]"
   ]
  },
  {
   "cell_type": "code",
   "execution_count": 36,
   "metadata": {},
   "outputs": [
    {
     "data": {
      "text/plain": [
       "count    9049.000000\n",
       "mean       35.490441\n",
       "std         9.226539\n",
       "min        21.000000\n",
       "25%        28.000000\n",
       "50%        34.000000\n",
       "75%        41.000000\n",
       "max        75.000000\n",
       "Name: age, dtype: float64"
      ]
     },
     "execution_count": 36,
     "metadata": {},
     "output_type": "execute_result"
    }
   ],
   "source": [
    "ages_valid['age'].describe()"
   ]
  },
  {
   "cell_type": "code",
   "execution_count": 136,
   "metadata": {},
   "outputs": [
    {
     "data": {
      "text/html": [
       "<div>\n",
       "<style scoped>\n",
       "    .dataframe tbody tr th:only-of-type {\n",
       "        vertical-align: middle;\n",
       "    }\n",
       "\n",
       "    .dataframe tbody tr th {\n",
       "        vertical-align: top;\n",
       "    }\n",
       "\n",
       "    .dataframe thead th {\n",
       "        text-align: right;\n",
       "    }\n",
       "</style>\n",
       "<table border=\"1\" class=\"dataframe\">\n",
       "  <thead>\n",
       "    <tr style=\"text-align: right;\">\n",
       "      <th>credit_default</th>\n",
       "      <th>no</th>\n",
       "      <th>yes</th>\n",
       "    </tr>\n",
       "    <tr>\n",
       "      <th>age</th>\n",
       "      <th></th>\n",
       "      <th></th>\n",
       "    </tr>\n",
       "  </thead>\n",
       "  <tbody>\n",
       "    <tr>\n",
       "      <th>20</th>\n",
       "      <td>562</td>\n",
       "      <td>234</td>\n",
       "    </tr>\n",
       "    <tr>\n",
       "      <th>25</th>\n",
       "      <td>1664</td>\n",
       "      <td>445</td>\n",
       "    </tr>\n",
       "    <tr>\n",
       "      <th>30</th>\n",
       "      <td>1491</td>\n",
       "      <td>332</td>\n",
       "    </tr>\n",
       "    <tr>\n",
       "      <th>35</th>\n",
       "      <td>1233</td>\n",
       "      <td>323</td>\n",
       "    </tr>\n",
       "    <tr>\n",
       "      <th>40</th>\n",
       "      <td>934</td>\n",
       "      <td>257</td>\n",
       "    </tr>\n",
       "    <tr>\n",
       "      <th>45</th>\n",
       "      <td>585</td>\n",
       "      <td>175</td>\n",
       "    </tr>\n",
       "    <tr>\n",
       "      <th>50</th>\n",
       "      <td>363</td>\n",
       "      <td>136</td>\n",
       "    </tr>\n",
       "    <tr>\n",
       "      <th>55</th>\n",
       "      <td>165</td>\n",
       "      <td>48</td>\n",
       "    </tr>\n",
       "    <tr>\n",
       "      <th>60</th>\n",
       "      <td>43</td>\n",
       "      <td>22</td>\n",
       "    </tr>\n",
       "    <tr>\n",
       "      <th>65</th>\n",
       "      <td>20</td>\n",
       "      <td>5</td>\n",
       "    </tr>\n",
       "    <tr>\n",
       "      <th>70</th>\n",
       "      <td>7</td>\n",
       "      <td>3</td>\n",
       "    </tr>\n",
       "    <tr>\n",
       "      <th>75</th>\n",
       "      <td>1</td>\n",
       "      <td>1</td>\n",
       "    </tr>\n",
       "  </tbody>\n",
       "</table>\n",
       "</div>"
      ],
      "text/plain": [
       "credit_default    no  yes\n",
       "age                      \n",
       "20               562  234\n",
       "25              1664  445\n",
       "30              1491  332\n",
       "35              1233  323\n",
       "40               934  257\n",
       "45               585  175\n",
       "50               363  136\n",
       "55               165   48\n",
       "60                43   22\n",
       "65                20    5\n",
       "70                 7    3\n",
       "75                 1    1"
      ]
     },
     "execution_count": 136,
     "metadata": {},
     "output_type": "execute_result"
    }
   ],
   "source": [
    "ages_default = pd.crosstab(ages_valid['age']//5*5, ages_valid['credit_default'])\n",
    "ages_default"
   ]
  },
  {
   "cell_type": "code",
   "execution_count": 167,
   "metadata": {},
   "outputs": [
    {
     "data": {
      "image/png": "[encoded data removed]",
      "text/plain": [
       "<Figure size 432x288 with 1 Axes>"
      ]
     },
     "metadata": {},
     "output_type": "display_data"
    }
   ],
   "source": [
    "\n",
    "fig = plt.figure()\n",
    "ax1 = fig.add_subplot(111)\n",
    "\n",
    "ages_default.plot(ax=ax1, kind='bar', stacked=True, title='Credit card default by customer ages', edgecolor='black', )\n",
    "\n",
    "ax2 = fig.add_subplot(111)\n",
    "\n",
    "from scipy.stats import norm\n",
    "\n",
    "# Plot between -10 and 10 with .001 steps.\n",
    "x_axis = np.arange(20, 75, 0.001)\n",
    "# Mean = 0, SD = 2.\n",
    "ax2.plot(x_axis, norm.pdf(x_axis,35.5,9), zorder=2)\n",
    "\n",
    "plt.xlabel('Lustrum')\n",
    "plt.ylabel('Default rate')\n",
    "plt.xticks(rotation=0)\n",
    "\n",
    "plt.show()\n"
   ]
  },
  {
   "cell_type": "code",
   "execution_count": 168,
   "metadata": {},
   "outputs": [
    {
     "data": {
      "text/html": [
       "<div>\n",
       "<style scoped>\n",
       "    .dataframe tbody tr th:only-of-type {\n",
       "        vertical-align: middle;\n",
       "    }\n",
       "\n",
       "    .dataframe tbody tr th {\n",
       "        vertical-align: top;\n",
       "    }\n",
       "\n",
       "    .dataframe thead th {\n",
       "        text-align: right;\n",
       "    }\n",
       "</style>\n",
       "<table border=\"1\" class=\"dataframe\">\n",
       "  <thead>\n",
       "    <tr style=\"text-align: right;\">\n",
       "      <th>credit_default</th>\n",
       "      <th>no</th>\n",
       "      <th>yes</th>\n",
       "    </tr>\n",
       "    <tr>\n",
       "      <th>age</th>\n",
       "      <th></th>\n",
       "      <th></th>\n",
       "    </tr>\n",
       "  </thead>\n",
       "  <tbody>\n",
       "    <tr>\n",
       "      <th>20</th>\n",
       "      <td>0.706030</td>\n",
       "      <td>0.293970</td>\n",
       "    </tr>\n",
       "    <tr>\n",
       "      <th>25</th>\n",
       "      <td>0.789000</td>\n",
       "      <td>0.211000</td>\n",
       "    </tr>\n",
       "    <tr>\n",
       "      <th>30</th>\n",
       "      <td>0.817883</td>\n",
       "      <td>0.182117</td>\n",
       "    </tr>\n",
       "    <tr>\n",
       "      <th>35</th>\n",
       "      <td>0.792416</td>\n",
       "      <td>0.207584</td>\n",
       "    </tr>\n",
       "    <tr>\n",
       "      <th>40</th>\n",
       "      <td>0.784215</td>\n",
       "      <td>0.215785</td>\n",
       "    </tr>\n",
       "    <tr>\n",
       "      <th>45</th>\n",
       "      <td>0.769737</td>\n",
       "      <td>0.230263</td>\n",
       "    </tr>\n",
       "    <tr>\n",
       "      <th>50</th>\n",
       "      <td>0.727455</td>\n",
       "      <td>0.272545</td>\n",
       "    </tr>\n",
       "    <tr>\n",
       "      <th>55</th>\n",
       "      <td>0.774648</td>\n",
       "      <td>0.225352</td>\n",
       "    </tr>\n",
       "    <tr>\n",
       "      <th>60</th>\n",
       "      <td>0.661538</td>\n",
       "      <td>0.338462</td>\n",
       "    </tr>\n",
       "    <tr>\n",
       "      <th>65</th>\n",
       "      <td>0.800000</td>\n",
       "      <td>0.200000</td>\n",
       "    </tr>\n",
       "    <tr>\n",
       "      <th>70</th>\n",
       "      <td>0.700000</td>\n",
       "      <td>0.300000</td>\n",
       "    </tr>\n",
       "    <tr>\n",
       "      <th>75</th>\n",
       "      <td>0.500000</td>\n",
       "      <td>0.500000</td>\n",
       "    </tr>\n",
       "  </tbody>\n",
       "</table>\n",
       "</div>"
      ],
      "text/plain": [
       "credit_default        no       yes\n",
       "age                               \n",
       "20              0.706030  0.293970\n",
       "25              0.789000  0.211000\n",
       "30              0.817883  0.182117\n",
       "35              0.792416  0.207584\n",
       "40              0.784215  0.215785\n",
       "45              0.769737  0.230263\n",
       "50              0.727455  0.272545\n",
       "55              0.774648  0.225352\n",
       "60              0.661538  0.338462\n",
       "65              0.800000  0.200000\n",
       "70              0.700000  0.300000\n",
       "75              0.500000  0.500000"
      ]
     },
     "execution_count": 168,
     "metadata": {},
     "output_type": "execute_result"
    }
   ],
   "source": [
    "ages_default_norm = ages_default.div(ages_default.sum(1).astype(float), axis=0)\n",
    "ages_default_norm"
   ]
  },
  {
   "cell_type": "code",
   "execution_count": 169,
   "metadata": {},
   "outputs": [
    {
     "data": {
      "image/png": "[encoded data removed]",
      "text/plain": [
       "<Figure size 432x288 with 1 Axes>"
      ]
     },
     "metadata": {},
     "output_type": "display_data"
    }
   ],
   "source": [
    "ages_default_norm.plot(kind='bar', stacked=True, title='Credit card default by customer ages', edgecolor='black')\n",
    "plt.xlabel('Decade')\n",
    "plt.ylabel('Default rate normalized')\n",
    "plt.xticks(rotation=0)\n",
    "plt.show()"
   ]
  },
  {
   "cell_type": "markdown",
   "metadata": {},
   "source": [
    "Limit\n",
    "--------"
   ]
  },
  {
   "cell_type": "code",
   "execution_count": 41,
   "metadata": {
    "scrolled": false
   },
   "outputs": [
    {
     "data": {
      "text/plain": [
       "count     10000.000000\n",
       "mean     167197.000000\n",
       "std      128975.488596\n",
       "min       10000.000000\n",
       "25%       50000.000000\n",
       "50%      140000.000000\n",
       "75%      240000.000000\n",
       "max      780000.000000\n",
       "Name: limit, dtype: float64"
      ]
     },
     "execution_count": 41,
     "metadata": {},
     "output_type": "execute_result"
    }
   ],
   "source": [
    "limits = cc['limit'].copy()\n",
    "limits.describe()"
   ]
  },
  {
   "cell_type": "code",
   "execution_count": 42,
   "metadata": {},
   "outputs": [
    {
     "data": {
      "text/plain": [
       "array([ 10000,  20000,  30000,  40000,  50000,  60000,  70000,  80000,\n",
       "        90000, 100000, 110000, 120000, 130000, 140000, 150000, 160000,\n",
       "       170000, 180000, 190000, 200000, 210000, 220000, 230000, 240000,\n",
       "       250000, 260000, 270000, 280000, 290000, 300000, 310000, 320000,\n",
       "       330000, 340000, 350000, 360000, 370000, 380000, 390000, 400000,\n",
       "       410000, 420000, 430000, 440000, 450000, 460000, 470000, 480000,\n",
       "       490000, 500000, 510000, 520000, 530000, 540000, 550000, 560000,\n",
       "       570000, 580000, 590000, 600000, 610000, 620000, 630000, 640000,\n",
       "       650000, 660000, 680000, 700000, 710000, 740000, 750000, 780000])"
      ]
     },
     "execution_count": 42,
     "metadata": {},
     "output_type": "execute_result"
    }
   ],
   "source": [
    "limits_unique = limits.unique()\n",
    "limits_unique.sort()\n",
    "limits_unique"
   ]
  },
  {
   "cell_type": "code",
   "execution_count": 43,
   "metadata": {},
   "outputs": [
    {
     "data": {
      "text/plain": [
       "72"
      ]
     },
     "execution_count": 43,
     "metadata": {},
     "output_type": "execute_result"
    }
   ],
   "source": [
    "len(limits_unique)"
   ]
  },
  {
   "cell_type": "code",
   "execution_count": 180,
   "metadata": {
    "scrolled": true
   },
   "outputs": [
    {
     "data": {
      "text/html": [
       "<div>\n",
       "<style scoped>\n",
       "    .dataframe tbody tr th:only-of-type {\n",
       "        vertical-align: middle;\n",
       "    }\n",
       "\n",
       "    .dataframe tbody tr th {\n",
       "        vertical-align: top;\n",
       "    }\n",
       "\n",
       "    .dataframe thead th {\n",
       "        text-align: right;\n",
       "    }\n",
       "</style>\n",
       "<table border=\"1\" class=\"dataframe\">\n",
       "  <thead>\n",
       "    <tr style=\"text-align: right;\">\n",
       "      <th>credit_default</th>\n",
       "      <th>no</th>\n",
       "      <th>yes</th>\n",
       "    </tr>\n",
       "    <tr>\n",
       "      <th>limit</th>\n",
       "      <th></th>\n",
       "      <th></th>\n",
       "    </tr>\n",
       "  </thead>\n",
       "  <tbody>\n",
       "    <tr>\n",
       "      <th>0</th>\n",
       "      <td>878</td>\n",
       "      <td>545</td>\n",
       "    </tr>\n",
       "    <tr>\n",
       "      <th>50000</th>\n",
       "      <td>1754</td>\n",
       "      <td>633</td>\n",
       "    </tr>\n",
       "    <tr>\n",
       "      <th>100000</th>\n",
       "      <td>1014</td>\n",
       "      <td>289</td>\n",
       "    </tr>\n",
       "    <tr>\n",
       "      <th>150000</th>\n",
       "      <td>969</td>\n",
       "      <td>211</td>\n",
       "    </tr>\n",
       "    <tr>\n",
       "      <th>200000</th>\n",
       "      <td>1126</td>\n",
       "      <td>236</td>\n",
       "    </tr>\n",
       "    <tr>\n",
       "      <th>250000</th>\n",
       "      <td>571</td>\n",
       "      <td>89</td>\n",
       "    </tr>\n",
       "    <tr>\n",
       "      <th>300000</th>\n",
       "      <td>434</td>\n",
       "      <td>56</td>\n",
       "    </tr>\n",
       "    <tr>\n",
       "      <th>350000</th>\n",
       "      <td>426</td>\n",
       "      <td>75</td>\n",
       "    </tr>\n",
       "    <tr>\n",
       "      <th>400000</th>\n",
       "      <td>210</td>\n",
       "      <td>30</td>\n",
       "    </tr>\n",
       "    <tr>\n",
       "      <th>450000</th>\n",
       "      <td>141</td>\n",
       "      <td>20</td>\n",
       "    </tr>\n",
       "    <tr>\n",
       "      <th>500000</th>\n",
       "      <td>232</td>\n",
       "      <td>20</td>\n",
       "    </tr>\n",
       "    <tr>\n",
       "      <th>550000</th>\n",
       "      <td>13</td>\n",
       "      <td>4</td>\n",
       "    </tr>\n",
       "    <tr>\n",
       "      <th>600000</th>\n",
       "      <td>11</td>\n",
       "      <td>2</td>\n",
       "    </tr>\n",
       "    <tr>\n",
       "      <th>650000</th>\n",
       "      <td>3</td>\n",
       "      <td>0</td>\n",
       "    </tr>\n",
       "    <tr>\n",
       "      <th>700000</th>\n",
       "      <td>4</td>\n",
       "      <td>2</td>\n",
       "    </tr>\n",
       "    <tr>\n",
       "      <th>750000</th>\n",
       "      <td>2</td>\n",
       "      <td>0</td>\n",
       "    </tr>\n",
       "  </tbody>\n",
       "</table>\n",
       "</div>"
      ],
      "text/plain": [
       "credit_default    no  yes\n",
       "limit                    \n",
       "0                878  545\n",
       "50000           1754  633\n",
       "100000          1014  289\n",
       "150000           969  211\n",
       "200000          1126  236\n",
       "250000           571   89\n",
       "300000           434   56\n",
       "350000           426   75\n",
       "400000           210   30\n",
       "450000           141   20\n",
       "500000           232   20\n",
       "550000            13    4\n",
       "600000            11    2\n",
       "650000             3    0\n",
       "700000             4    2\n",
       "750000             2    0"
      ]
     },
     "execution_count": 180,
     "metadata": {},
     "output_type": "execute_result"
    }
   ],
   "source": [
    "limits_default = pd.crosstab(cc['limit']//50000*50000, cc['credit_default'])\n",
    "limits_default"
   ]
  },
  {
   "cell_type": "code",
   "execution_count": 181,
   "metadata": {},
   "outputs": [
    {
     "data": {
      "image/png": "[encoded data removed]",
      "text/plain": [
       "<Figure size 432x288 with 1 Axes>"
      ]
     },
     "metadata": {},
     "output_type": "display_data"
    }
   ],
   "source": [
    "limits_default.plot(kind='bar', stacked=True, title='Credit card default by customer limit', edgecolor='black')\n",
    "plt.xlabel('Limit')\n",
    "plt.ylabel('Default rate')\n",
    "plt.xticks(rotation=-45)\n",
    "plt.show()"
   ]
  },
  {
   "cell_type": "code",
   "execution_count": 182,
   "metadata": {},
   "outputs": [
    {
     "data": {
      "text/html": [
       "<div>\n",
       "<style scoped>\n",
       "    .dataframe tbody tr th:only-of-type {\n",
       "        vertical-align: middle;\n",
       "    }\n",
       "\n",
       "    .dataframe tbody tr th {\n",
       "        vertical-align: top;\n",
       "    }\n",
       "\n",
       "    .dataframe thead th {\n",
       "        text-align: right;\n",
       "    }\n",
       "</style>\n",
       "<table border=\"1\" class=\"dataframe\">\n",
       "  <thead>\n",
       "    <tr style=\"text-align: right;\">\n",
       "      <th>credit_default</th>\n",
       "      <th>no</th>\n",
       "      <th>yes</th>\n",
       "    </tr>\n",
       "    <tr>\n",
       "      <th>limit</th>\n",
       "      <th></th>\n",
       "      <th></th>\n",
       "    </tr>\n",
       "  </thead>\n",
       "  <tbody>\n",
       "    <tr>\n",
       "      <th>0</th>\n",
       "      <td>0.617006</td>\n",
       "      <td>0.382994</td>\n",
       "    </tr>\n",
       "    <tr>\n",
       "      <th>50000</th>\n",
       "      <td>0.734814</td>\n",
       "      <td>0.265186</td>\n",
       "    </tr>\n",
       "    <tr>\n",
       "      <th>100000</th>\n",
       "      <td>0.778204</td>\n",
       "      <td>0.221796</td>\n",
       "    </tr>\n",
       "    <tr>\n",
       "      <th>150000</th>\n",
       "      <td>0.821186</td>\n",
       "      <td>0.178814</td>\n",
       "    </tr>\n",
       "    <tr>\n",
       "      <th>200000</th>\n",
       "      <td>0.826725</td>\n",
       "      <td>0.173275</td>\n",
       "    </tr>\n",
       "    <tr>\n",
       "      <th>250000</th>\n",
       "      <td>0.865152</td>\n",
       "      <td>0.134848</td>\n",
       "    </tr>\n",
       "    <tr>\n",
       "      <th>300000</th>\n",
       "      <td>0.885714</td>\n",
       "      <td>0.114286</td>\n",
       "    </tr>\n",
       "    <tr>\n",
       "      <th>350000</th>\n",
       "      <td>0.850299</td>\n",
       "      <td>0.149701</td>\n",
       "    </tr>\n",
       "    <tr>\n",
       "      <th>400000</th>\n",
       "      <td>0.875000</td>\n",
       "      <td>0.125000</td>\n",
       "    </tr>\n",
       "    <tr>\n",
       "      <th>450000</th>\n",
       "      <td>0.875776</td>\n",
       "      <td>0.124224</td>\n",
       "    </tr>\n",
       "    <tr>\n",
       "      <th>500000</th>\n",
       "      <td>0.920635</td>\n",
       "      <td>0.079365</td>\n",
       "    </tr>\n",
       "    <tr>\n",
       "      <th>550000</th>\n",
       "      <td>0.764706</td>\n",
       "      <td>0.235294</td>\n",
       "    </tr>\n",
       "    <tr>\n",
       "      <th>600000</th>\n",
       "      <td>0.846154</td>\n",
       "      <td>0.153846</td>\n",
       "    </tr>\n",
       "    <tr>\n",
       "      <th>650000</th>\n",
       "      <td>1.000000</td>\n",
       "      <td>0.000000</td>\n",
       "    </tr>\n",
       "    <tr>\n",
       "      <th>700000</th>\n",
       "      <td>0.666667</td>\n",
       "      <td>0.333333</td>\n",
       "    </tr>\n",
       "    <tr>\n",
       "      <th>750000</th>\n",
       "      <td>1.000000</td>\n",
       "      <td>0.000000</td>\n",
       "    </tr>\n",
       "  </tbody>\n",
       "</table>\n",
       "</div>"
      ],
      "text/plain": [
       "credit_default        no       yes\n",
       "limit                             \n",
       "0               0.617006  0.382994\n",
       "50000           0.734814  0.265186\n",
       "100000          0.778204  0.221796\n",
       "150000          0.821186  0.178814\n",
       "200000          0.826725  0.173275\n",
       "250000          0.865152  0.134848\n",
       "300000          0.885714  0.114286\n",
       "350000          0.850299  0.149701\n",
       "400000          0.875000  0.125000\n",
       "450000          0.875776  0.124224\n",
       "500000          0.920635  0.079365\n",
       "550000          0.764706  0.235294\n",
       "600000          0.846154  0.153846\n",
       "650000          1.000000  0.000000\n",
       "700000          0.666667  0.333333\n",
       "750000          1.000000  0.000000"
      ]
     },
     "execution_count": 182,
     "metadata": {},
     "output_type": "execute_result"
    }
   ],
   "source": [
    "limits_default_norm = limits_default.div(limits_default.sum(1).astype(float), axis=0)\n",
    "limits_default_norm"
   ]
  },
  {
   "cell_type": "code",
   "execution_count": 183,
   "metadata": {
    "scrolled": false
   },
   "outputs": [
    {
     "data": {
      "image/png": "[encoded data removed]",
      "text/plain": [
       "<Figure size 432x288 with 1 Axes>"
      ]
     },
     "metadata": {},
     "output_type": "display_data"
    }
   ],
   "source": [
    "limits_default_norm.plot(kind='bar', stacked=True, title='Credit card default by customer limit', edgecolor='black')\n",
    "plt.xlabel('Limit')\n",
    "plt.ylabel('Default rate')\n",
    "plt.xticks(rotation=-45)\n",
    "plt.show()"
   ]
  },
  {
   "cell_type": "markdown",
   "metadata": {},
   "source": [
    "Payment status\n",
    "--------"
   ]
  },
  {
   "cell_type": "code",
   "execution_count": 48,
   "metadata": {},
   "outputs": [
    {
     "data": {
      "text/html": [
       "<div>\n",
       "<style scoped>\n",
       "    .dataframe tbody tr th:only-of-type {\n",
       "        vertical-align: middle;\n",
       "    }\n",
       "\n",
       "    .dataframe tbody tr th {\n",
       "        vertical-align: top;\n",
       "    }\n",
       "\n",
       "    .dataframe thead th {\n",
       "        text-align: right;\n",
       "    }\n",
       "</style>\n",
       "<table border=\"1\" class=\"dataframe\">\n",
       "  <thead>\n",
       "    <tr style=\"text-align: right;\">\n",
       "      <th></th>\n",
       "      <th>ps-apr</th>\n",
       "      <th>ps-may</th>\n",
       "      <th>ps-jun</th>\n",
       "      <th>ps-jul</th>\n",
       "      <th>ps-aug</th>\n",
       "      <th>ps-sep</th>\n",
       "    </tr>\n",
       "  </thead>\n",
       "  <tbody>\n",
       "    <tr>\n",
       "      <th>count</th>\n",
       "      <td>10000.000000</td>\n",
       "      <td>10000.000000</td>\n",
       "      <td>10000.000000</td>\n",
       "      <td>10000.000000</td>\n",
       "      <td>10000.000000</td>\n",
       "      <td>10000.000000</td>\n",
       "    </tr>\n",
       "    <tr>\n",
       "      <th>mean</th>\n",
       "      <td>-0.297400</td>\n",
       "      <td>-0.263700</td>\n",
       "      <td>-0.234300</td>\n",
       "      <td>-0.175700</td>\n",
       "      <td>-0.127800</td>\n",
       "      <td>-0.004000</td>\n",
       "    </tr>\n",
       "    <tr>\n",
       "      <th>std</th>\n",
       "      <td>1.147295</td>\n",
       "      <td>1.147386</td>\n",
       "      <td>1.169333</td>\n",
       "      <td>1.193554</td>\n",
       "      <td>1.200921</td>\n",
       "      <td>1.132834</td>\n",
       "    </tr>\n",
       "    <tr>\n",
       "      <th>min</th>\n",
       "      <td>-2.000000</td>\n",
       "      <td>-2.000000</td>\n",
       "      <td>-2.000000</td>\n",
       "      <td>-2.000000</td>\n",
       "      <td>-2.000000</td>\n",
       "      <td>-2.000000</td>\n",
       "    </tr>\n",
       "    <tr>\n",
       "      <th>25%</th>\n",
       "      <td>-1.000000</td>\n",
       "      <td>-1.000000</td>\n",
       "      <td>-1.000000</td>\n",
       "      <td>-1.000000</td>\n",
       "      <td>-1.000000</td>\n",
       "      <td>-1.000000</td>\n",
       "    </tr>\n",
       "    <tr>\n",
       "      <th>50%</th>\n",
       "      <td>0.000000</td>\n",
       "      <td>0.000000</td>\n",
       "      <td>0.000000</td>\n",
       "      <td>0.000000</td>\n",
       "      <td>0.000000</td>\n",
       "      <td>0.000000</td>\n",
       "    </tr>\n",
       "    <tr>\n",
       "      <th>75%</th>\n",
       "      <td>0.000000</td>\n",
       "      <td>0.000000</td>\n",
       "      <td>0.000000</td>\n",
       "      <td>0.000000</td>\n",
       "      <td>0.000000</td>\n",
       "      <td>0.000000</td>\n",
       "    </tr>\n",
       "    <tr>\n",
       "      <th>max</th>\n",
       "      <td>8.000000</td>\n",
       "      <td>8.000000</td>\n",
       "      <td>8.000000</td>\n",
       "      <td>8.000000</td>\n",
       "      <td>7.000000</td>\n",
       "      <td>8.000000</td>\n",
       "    </tr>\n",
       "  </tbody>\n",
       "</table>\n",
       "</div>"
      ],
      "text/plain": [
       "             ps-apr        ps-may        ps-jun        ps-jul        ps-aug  \\\n",
       "count  10000.000000  10000.000000  10000.000000  10000.000000  10000.000000   \n",
       "mean      -0.297400     -0.263700     -0.234300     -0.175700     -0.127800   \n",
       "std        1.147295      1.147386      1.169333      1.193554      1.200921   \n",
       "min       -2.000000     -2.000000     -2.000000     -2.000000     -2.000000   \n",
       "25%       -1.000000     -1.000000     -1.000000     -1.000000     -1.000000   \n",
       "50%        0.000000      0.000000      0.000000      0.000000      0.000000   \n",
       "75%        0.000000      0.000000      0.000000      0.000000      0.000000   \n",
       "max        8.000000      8.000000      8.000000      8.000000      7.000000   \n",
       "\n",
       "             ps-sep  \n",
       "count  10000.000000  \n",
       "mean      -0.004000  \n",
       "std        1.132834  \n",
       "min       -2.000000  \n",
       "25%       -1.000000  \n",
       "50%        0.000000  \n",
       "75%        0.000000  \n",
       "max        8.000000  "
      ]
     },
     "execution_count": 48,
     "metadata": {},
     "output_type": "execute_result"
    }
   ],
   "source": [
    "ps_var = ['ps-apr', 'ps-may', 'ps-jun', 'ps-jul', 'ps-aug', 'ps-sep']\n",
    "cc[ps_var].describe()"
   ]
  },
  {
   "cell_type": "code",
   "execution_count": 49,
   "metadata": {},
   "outputs": [
    {
     "data": {
      "text/plain": [
       "[array([-2, -1,  0,  2,  3,  4,  5,  6,  7,  8]),\n",
       " array([-2, -1,  0,  2,  3,  4,  5,  6,  7,  8]),\n",
       " array([-2, -1,  0,  2,  3,  4,  5,  6,  7,  8]),\n",
       " array([-2, -1,  0,  1,  2,  3,  4,  5,  6,  7,  8]),\n",
       " array([-2, -1,  0,  1,  2,  3,  4,  5,  6,  7]),\n",
       " array([-2, -1,  0,  1,  2,  3,  4,  5,  6,  7,  8])]"
      ]
     },
     "execution_count": 49,
     "metadata": {},
     "output_type": "execute_result"
    }
   ],
   "source": [
    "ps_unique = []\n",
    "for m in ps_var:\n",
    "    val = cc[m].unique()\n",
    "    val.sort()\n",
    "    ps_unique.append(val)\n",
    "ps_unique"
   ]
  },
  {
   "cell_type": "code",
   "execution_count": 191,
   "metadata": {},
   "outputs": [
    {
     "data": {
      "text/plain": [
       " 0    5450\n",
       "-1    1915\n",
       "-2    1636\n",
       " 2     900\n",
       " 3      57\n",
       " 7      19\n",
       " 4      14\n",
       " 6       5\n",
       " 5       3\n",
       " 8       1\n",
       "Name: ps-apr, dtype: int64"
      ]
     },
     "execution_count": 191,
     "metadata": {},
     "output_type": "execute_result"
    }
   ],
   "source": [
    "cc[ps_var[0]].value_counts()"
   ]
  },
  {
   "cell_type": "code",
   "execution_count": 51,
   "metadata": {},
   "outputs": [
    {
     "data": {
      "text/html": [
       "<div>\n",
       "<style scoped>\n",
       "    .dataframe tbody tr th:only-of-type {\n",
       "        vertical-align: middle;\n",
       "    }\n",
       "\n",
       "    .dataframe tbody tr th {\n",
       "        vertical-align: top;\n",
       "    }\n",
       "\n",
       "    .dataframe thead th {\n",
       "        text-align: right;\n",
       "    }\n",
       "</style>\n",
       "<table border=\"1\" class=\"dataframe\">\n",
       "  <thead>\n",
       "    <tr style=\"text-align: right;\">\n",
       "      <th>credit_default</th>\n",
       "      <th>no</th>\n",
       "      <th>yes</th>\n",
       "    </tr>\n",
       "    <tr>\n",
       "      <th>ps-apr</th>\n",
       "      <th></th>\n",
       "      <th></th>\n",
       "    </tr>\n",
       "  </thead>\n",
       "  <tbody>\n",
       "    <tr>\n",
       "      <th>-2</th>\n",
       "      <td>1323</td>\n",
       "      <td>313</td>\n",
       "    </tr>\n",
       "    <tr>\n",
       "      <th>-1</th>\n",
       "      <td>1583</td>\n",
       "      <td>332</td>\n",
       "    </tr>\n",
       "    <tr>\n",
       "      <th>0</th>\n",
       "      <td>4421</td>\n",
       "      <td>1029</td>\n",
       "    </tr>\n",
       "    <tr>\n",
       "      <th>2</th>\n",
       "      <td>437</td>\n",
       "      <td>463</td>\n",
       "    </tr>\n",
       "    <tr>\n",
       "      <th>3</th>\n",
       "      <td>16</td>\n",
       "      <td>41</td>\n",
       "    </tr>\n",
       "    <tr>\n",
       "      <th>4</th>\n",
       "      <td>3</td>\n",
       "      <td>11</td>\n",
       "    </tr>\n",
       "    <tr>\n",
       "      <th>5</th>\n",
       "      <td>1</td>\n",
       "      <td>2</td>\n",
       "    </tr>\n",
       "    <tr>\n",
       "      <th>6</th>\n",
       "      <td>0</td>\n",
       "      <td>5</td>\n",
       "    </tr>\n",
       "    <tr>\n",
       "      <th>7</th>\n",
       "      <td>4</td>\n",
       "      <td>15</td>\n",
       "    </tr>\n",
       "    <tr>\n",
       "      <th>8</th>\n",
       "      <td>0</td>\n",
       "      <td>1</td>\n",
       "    </tr>\n",
       "  </tbody>\n",
       "</table>\n",
       "</div>"
      ],
      "text/plain": [
       "credit_default    no   yes\n",
       "ps-apr                    \n",
       "-2              1323   313\n",
       "-1              1583   332\n",
       " 0              4421  1029\n",
       " 2               437   463\n",
       " 3                16    41\n",
       " 4                 3    11\n",
       " 5                 1     2\n",
       " 6                 0     5\n",
       " 7                 4    15\n",
       " 8                 0     1"
      ]
     },
     "execution_count": 51,
     "metadata": {},
     "output_type": "execute_result"
    }
   ],
   "source": [
    "ps_default = []\n",
    "\n",
    "for m in ps_var:\n",
    "    ps_default.append(pd.crosstab(cc[m], cc['credit_default']))\n",
    "    \n",
    "ps_default[0]"
   ]
  },
  {
   "cell_type": "code",
   "execution_count": 109,
   "metadata": {
    "scrolled": false
   },
   "outputs": [
    {
     "data": {
      "image/png": "[encoded data removed]",
      "text/plain": [
       "<Figure size 1080x1080 with 6 Axes>"
      ]
     },
     "metadata": {},
     "output_type": "display_data"
    }
   ],
   "source": [
    "# Set up a grid of plots\n",
    "fig = plt.figure(figsize=(15, 15)) \n",
    "fig_dims = (3, 2)\n",
    "\n",
    "for i in range(0, len(ps_var)):\n",
    "    x = i // fig_dims[1]\n",
    "    y = i % fig_dims[1]\n",
    "    sp = plt.subplot2grid(fig_dims, (x, y))\n",
    "    ps_default[0].plot(ax=sp, kind='bar', stacked=True, title='Credit card default by ' + ps_var[i], edgecolor='black')\n",
    "    plt.xticks(rotation=0)\n",
    "    \n",
    "plt.show()"
   ]
  },
  {
   "cell_type": "code",
   "execution_count": 53,
   "metadata": {
    "scrolled": true
   },
   "outputs": [
    {
     "data": {
      "text/html": [
       "<div>\n",
       "<style scoped>\n",
       "    .dataframe tbody tr th:only-of-type {\n",
       "        vertical-align: middle;\n",
       "    }\n",
       "\n",
       "    .dataframe tbody tr th {\n",
       "        vertical-align: top;\n",
       "    }\n",
       "\n",
       "    .dataframe thead th {\n",
       "        text-align: right;\n",
       "    }\n",
       "</style>\n",
       "<table border=\"1\" class=\"dataframe\">\n",
       "  <thead>\n",
       "    <tr style=\"text-align: right;\">\n",
       "      <th>credit_default</th>\n",
       "      <th>no</th>\n",
       "      <th>yes</th>\n",
       "    </tr>\n",
       "    <tr>\n",
       "      <th>ps-may</th>\n",
       "      <th></th>\n",
       "      <th></th>\n",
       "    </tr>\n",
       "  </thead>\n",
       "  <tbody>\n",
       "    <tr>\n",
       "      <th>-2</th>\n",
       "      <td>0.813316</td>\n",
       "      <td>0.186684</td>\n",
       "    </tr>\n",
       "    <tr>\n",
       "      <th>-1</th>\n",
       "      <td>0.833968</td>\n",
       "      <td>0.166032</td>\n",
       "    </tr>\n",
       "    <tr>\n",
       "      <th>0</th>\n",
       "      <td>0.811623</td>\n",
       "      <td>0.188377</td>\n",
       "    </tr>\n",
       "    <tr>\n",
       "      <th>2</th>\n",
       "      <td>0.462838</td>\n",
       "      <td>0.537162</td>\n",
       "    </tr>\n",
       "    <tr>\n",
       "      <th>3</th>\n",
       "      <td>0.327586</td>\n",
       "      <td>0.672414</td>\n",
       "    </tr>\n",
       "    <tr>\n",
       "      <th>4</th>\n",
       "      <td>0.222222</td>\n",
       "      <td>0.777778</td>\n",
       "    </tr>\n",
       "    <tr>\n",
       "      <th>5</th>\n",
       "      <td>0.400000</td>\n",
       "      <td>0.600000</td>\n",
       "    </tr>\n",
       "    <tr>\n",
       "      <th>6</th>\n",
       "      <td>0.500000</td>\n",
       "      <td>0.500000</td>\n",
       "    </tr>\n",
       "    <tr>\n",
       "      <th>7</th>\n",
       "      <td>0.173913</td>\n",
       "      <td>0.826087</td>\n",
       "    </tr>\n",
       "    <tr>\n",
       "      <th>8</th>\n",
       "      <td>0.000000</td>\n",
       "      <td>1.000000</td>\n",
       "    </tr>\n",
       "  </tbody>\n",
       "</table>\n",
       "</div>"
      ],
      "text/plain": [
       "credit_default        no       yes\n",
       "ps-may                            \n",
       "-2              0.813316  0.186684\n",
       "-1              0.833968  0.166032\n",
       " 0              0.811623  0.188377\n",
       " 2              0.462838  0.537162\n",
       " 3              0.327586  0.672414\n",
       " 4              0.222222  0.777778\n",
       " 5              0.400000  0.600000\n",
       " 6              0.500000  0.500000\n",
       " 7              0.173913  0.826087\n",
       " 8              0.000000  1.000000"
      ]
     },
     "execution_count": 53,
     "metadata": {},
     "output_type": "execute_result"
    }
   ],
   "source": [
    "ps_default_norm = []\n",
    "\n",
    "for i in range(0, len(ps_var)):\n",
    "    ps_default_norm.append( ps_default[i].div(ps_default[i].sum(1).astype(float), axis=0) )\n",
    "    \n",
    "ps_default_norm[1]"
   ]
  },
  {
   "cell_type": "code",
   "execution_count": 108,
   "metadata": {
    "scrolled": false
   },
   "outputs": [
    {
     "data": {
      "image/png": "[encoded data removed]",
      "text/plain": [
       "<Figure size 1080x1080 with 6 Axes>"
      ]
     },
     "metadata": {},
     "output_type": "display_data"
    }
   ],
   "source": [
    "# Set up a grid of plots\n",
    "fig = plt.figure(figsize=(15, 15)) \n",
    "fig_dims = (3, 2)\n",
    "\n",
    "for i in range(0, len(ps_var)):\n",
    "    x = i // fig_dims[1]\n",
    "    y = i % fig_dims[1]\n",
    "    sp = plt.subplot2grid(fig_dims, (x, y))\n",
    "    ps_default_norm[0].plot(ax=sp, kind='bar', stacked=True, title='Credit card default by ' + ps_var[i], edgecolor='black')\n",
    "    plt.xticks(rotation=0)\n",
    "\n",
    "plt.show()"
   ]
  },
  {
   "cell_type": "markdown",
   "metadata": {},
   "source": [
    "Bill Amount\n",
    "--------"
   ]
  },
  {
   "cell_type": "code",
   "execution_count": 55,
   "metadata": {},
   "outputs": [
    {
     "data": {
      "text/html": [
       "<div>\n",
       "<style scoped>\n",
       "    .dataframe tbody tr th:only-of-type {\n",
       "        vertical-align: middle;\n",
       "    }\n",
       "\n",
       "    .dataframe tbody tr th {\n",
       "        vertical-align: top;\n",
       "    }\n",
       "\n",
       "    .dataframe thead th {\n",
       "        text-align: right;\n",
       "    }\n",
       "</style>\n",
       "<table border=\"1\" class=\"dataframe\">\n",
       "  <thead>\n",
       "    <tr style=\"text-align: right;\">\n",
       "      <th></th>\n",
       "      <th>ba-apr</th>\n",
       "      <th>ba-may</th>\n",
       "      <th>ba-jun</th>\n",
       "      <th>ba-jul</th>\n",
       "      <th>ba-aug</th>\n",
       "      <th>ba-sep</th>\n",
       "    </tr>\n",
       "  </thead>\n",
       "  <tbody>\n",
       "    <tr>\n",
       "      <th>count</th>\n",
       "      <td>10000.000000</td>\n",
       "      <td>10000.000000</td>\n",
       "      <td>10000.000000</td>\n",
       "      <td>10000.00000</td>\n",
       "      <td>10000.000000</td>\n",
       "      <td>10000.000000</td>\n",
       "    </tr>\n",
       "    <tr>\n",
       "      <th>mean</th>\n",
       "      <td>38621.582700</td>\n",
       "      <td>40182.130200</td>\n",
       "      <td>43306.114300</td>\n",
       "      <td>46957.46680</td>\n",
       "      <td>49239.438400</td>\n",
       "      <td>51490.704100</td>\n",
       "    </tr>\n",
       "    <tr>\n",
       "      <th>std</th>\n",
       "      <td>59325.339137</td>\n",
       "      <td>60732.330157</td>\n",
       "      <td>64519.910263</td>\n",
       "      <td>68948.62697</td>\n",
       "      <td>70777.470286</td>\n",
       "      <td>73740.383345</td>\n",
       "    </tr>\n",
       "    <tr>\n",
       "      <th>min</th>\n",
       "      <td>-209051.000000</td>\n",
       "      <td>-81334.000000</td>\n",
       "      <td>-24303.000000</td>\n",
       "      <td>-61506.00000</td>\n",
       "      <td>-69777.000000</td>\n",
       "      <td>-14386.000000</td>\n",
       "    </tr>\n",
       "    <tr>\n",
       "      <th>25%</th>\n",
       "      <td>1150.000000</td>\n",
       "      <td>1650.000000</td>\n",
       "      <td>2203.250000</td>\n",
       "      <td>2442.50000</td>\n",
       "      <td>2899.250000</td>\n",
       "      <td>3545.250000</td>\n",
       "    </tr>\n",
       "    <tr>\n",
       "      <th>50%</th>\n",
       "      <td>16977.000000</td>\n",
       "      <td>18071.000000</td>\n",
       "      <td>19072.000000</td>\n",
       "      <td>19905.50000</td>\n",
       "      <td>21202.000000</td>\n",
       "      <td>22246.000000</td>\n",
       "    </tr>\n",
       "    <tr>\n",
       "      <th>75%</th>\n",
       "      <td>48680.750000</td>\n",
       "      <td>49906.500000</td>\n",
       "      <td>54093.750000</td>\n",
       "      <td>60164.75000</td>\n",
       "      <td>64412.750000</td>\n",
       "      <td>67681.000000</td>\n",
       "    </tr>\n",
       "    <tr>\n",
       "      <th>max</th>\n",
       "      <td>568638.000000</td>\n",
       "      <td>587067.000000</td>\n",
       "      <td>616836.000000</td>\n",
       "      <td>597415.00000</td>\n",
       "      <td>605943.000000</td>\n",
       "      <td>613860.000000</td>\n",
       "    </tr>\n",
       "  </tbody>\n",
       "</table>\n",
       "</div>"
      ],
      "text/plain": [
       "              ba-apr         ba-may         ba-jun        ba-jul  \\\n",
       "count   10000.000000   10000.000000   10000.000000   10000.00000   \n",
       "mean    38621.582700   40182.130200   43306.114300   46957.46680   \n",
       "std     59325.339137   60732.330157   64519.910263   68948.62697   \n",
       "min   -209051.000000  -81334.000000  -24303.000000  -61506.00000   \n",
       "25%      1150.000000    1650.000000    2203.250000    2442.50000   \n",
       "50%     16977.000000   18071.000000   19072.000000   19905.50000   \n",
       "75%     48680.750000   49906.500000   54093.750000   60164.75000   \n",
       "max    568638.000000  587067.000000  616836.000000  597415.00000   \n",
       "\n",
       "              ba-aug         ba-sep  \n",
       "count   10000.000000   10000.000000  \n",
       "mean    49239.438400   51490.704100  \n",
       "std     70777.470286   73740.383345  \n",
       "min    -69777.000000  -14386.000000  \n",
       "25%      2899.250000    3545.250000  \n",
       "50%     21202.000000   22246.000000  \n",
       "75%     64412.750000   67681.000000  \n",
       "max    605943.000000  613860.000000  "
      ]
     },
     "execution_count": 55,
     "metadata": {},
     "output_type": "execute_result"
    }
   ],
   "source": [
    "ba_var = ['ba-apr', 'ba-may', 'ba-jun', 'ba-jul', 'ba-aug', 'ba-sep']\n",
    "cc[ba_var].describe()"
   ]
  },
  {
   "cell_type": "code",
   "execution_count": 56,
   "metadata": {},
   "outputs": [
    {
     "data": {
      "text/plain": [
       "[[-209051, 568638],\n",
       " [-81334, 587067],\n",
       " [-24303, 616836],\n",
       " [-61506, 597415],\n",
       " [-69777, 605943],\n",
       " [-14386, 613860]]"
      ]
     },
     "execution_count": 56,
     "metadata": {},
     "output_type": "execute_result"
    }
   ],
   "source": [
    "ba_unique = []\n",
    "for m in ba_var:\n",
    "    val = cc[m].unique()\n",
    "    val.sort()\n",
    "    ba_unique.append([min(val), max(val)])\n",
    "ba_unique"
   ]
  },
  {
   "cell_type": "code",
   "execution_count": 57,
   "metadata": {},
   "outputs": [
    {
     "data": {
      "text/plain": [
       "ba-apr    0\n",
       "ba-may    0\n",
       "ba-jun    0\n",
       "ba-jul    0\n",
       "ba-aug    0\n",
       "ba-sep    0\n",
       "dtype: int64"
      ]
     },
     "execution_count": 57,
     "metadata": {},
     "output_type": "execute_result"
    }
   ],
   "source": [
    "cc.isnull().sum()[ba_var]"
   ]
  },
  {
   "cell_type": "code",
   "execution_count": 192,
   "metadata": {},
   "outputs": [
    {
     "data": {
      "text/html": [
       "<div>\n",
       "<style scoped>\n",
       "    .dataframe tbody tr th:only-of-type {\n",
       "        vertical-align: middle;\n",
       "    }\n",
       "\n",
       "    .dataframe tbody tr th {\n",
       "        vertical-align: top;\n",
       "    }\n",
       "\n",
       "    .dataframe thead th {\n",
       "        text-align: right;\n",
       "    }\n",
       "</style>\n",
       "<table border=\"1\" class=\"dataframe\">\n",
       "  <thead>\n",
       "    <tr style=\"text-align: right;\">\n",
       "      <th>credit_default</th>\n",
       "      <th>no</th>\n",
       "      <th>yes</th>\n",
       "    </tr>\n",
       "    <tr>\n",
       "      <th>ba-apr</th>\n",
       "      <th></th>\n",
       "      <th></th>\n",
       "    </tr>\n",
       "  </thead>\n",
       "  <tbody>\n",
       "    <tr>\n",
       "      <th>-250000</th>\n",
       "      <td>1</td>\n",
       "      <td>0</td>\n",
       "    </tr>\n",
       "    <tr>\n",
       "      <th>-200000</th>\n",
       "      <td>1</td>\n",
       "      <td>0</td>\n",
       "    </tr>\n",
       "    <tr>\n",
       "      <th>-100000</th>\n",
       "      <td>1</td>\n",
       "      <td>0</td>\n",
       "    </tr>\n",
       "    <tr>\n",
       "      <th>-50000</th>\n",
       "      <td>179</td>\n",
       "      <td>43</td>\n",
       "    </tr>\n",
       "    <tr>\n",
       "      <th>0</th>\n",
       "      <td>5688</td>\n",
       "      <td>1691</td>\n",
       "    </tr>\n",
       "    <tr>\n",
       "      <th>50000</th>\n",
       "      <td>973</td>\n",
       "      <td>248</td>\n",
       "    </tr>\n",
       "    <tr>\n",
       "      <th>100000</th>\n",
       "      <td>480</td>\n",
       "      <td>126</td>\n",
       "    </tr>\n",
       "    <tr>\n",
       "      <th>150000</th>\n",
       "      <td>247</td>\n",
       "      <td>50</td>\n",
       "    </tr>\n",
       "    <tr>\n",
       "      <th>200000</th>\n",
       "      <td>103</td>\n",
       "      <td>22</td>\n",
       "    </tr>\n",
       "    <tr>\n",
       "      <th>250000</th>\n",
       "      <td>58</td>\n",
       "      <td>13</td>\n",
       "    </tr>\n",
       "    <tr>\n",
       "      <th>300000</th>\n",
       "      <td>26</td>\n",
       "      <td>8</td>\n",
       "    </tr>\n",
       "    <tr>\n",
       "      <th>350000</th>\n",
       "      <td>18</td>\n",
       "      <td>4</td>\n",
       "    </tr>\n",
       "    <tr>\n",
       "      <th>400000</th>\n",
       "      <td>7</td>\n",
       "      <td>4</td>\n",
       "    </tr>\n",
       "    <tr>\n",
       "      <th>450000</th>\n",
       "      <td>4</td>\n",
       "      <td>3</td>\n",
       "    </tr>\n",
       "    <tr>\n",
       "      <th>500000</th>\n",
       "      <td>1</td>\n",
       "      <td>0</td>\n",
       "    </tr>\n",
       "    <tr>\n",
       "      <th>550000</th>\n",
       "      <td>1</td>\n",
       "      <td>0</td>\n",
       "    </tr>\n",
       "  </tbody>\n",
       "</table>\n",
       "</div>"
      ],
      "text/plain": [
       "credit_default    no   yes\n",
       "ba-apr                    \n",
       "-250000            1     0\n",
       "-200000            1     0\n",
       "-100000            1     0\n",
       "-50000           179    43\n",
       " 0              5688  1691\n",
       " 50000           973   248\n",
       " 100000          480   126\n",
       " 150000          247    50\n",
       " 200000          103    22\n",
       " 250000           58    13\n",
       " 300000           26     8\n",
       " 350000           18     4\n",
       " 400000            7     4\n",
       " 450000            4     3\n",
       " 500000            1     0\n",
       " 550000            1     0"
      ]
     },
     "execution_count": 192,
     "metadata": {},
     "output_type": "execute_result"
    }
   ],
   "source": [
    "ba_default = []\n",
    "\n",
    "for m in ba_var:\n",
    "    ba_default.append(pd.crosstab(cc[m]//50000*50000, cc['credit_default']))\n",
    "    \n",
    "ba_default[0]"
   ]
  },
  {
   "cell_type": "code",
   "execution_count": 193,
   "metadata": {
    "scrolled": false
   },
   "outputs": [
    {
     "data": {
      "image/png": "[encoded data removed]",
      "text/plain": [
       "<Figure size 1080x1080 with 6 Axes>"
      ]
     },
     "metadata": {},
     "output_type": "display_data"
    }
   ],
   "source": [
    "# Set up a grid of plots\n",
    "fig = plt.figure(figsize=(15, 15)) \n",
    "fig_dims = (3, 2)\n",
    "\n",
    "for i in range(0, len(ba_var)):\n",
    "    x = i // fig_dims[1]\n",
    "    y = i % fig_dims[1]\n",
    "    sp = plt.subplot2grid(fig_dims, (x, y))\n",
    "    ba_default[0].plot(ax=sp, kind='bar', stacked=True, title='Credit card default by ' + ba_var[i], edgecolor='black')\n",
    "    plt.xticks(rotation=-45)\n",
    "\n",
    "plt.show()"
   ]
  },
  {
   "cell_type": "code",
   "execution_count": 199,
   "metadata": {
    "scrolled": true
   },
   "outputs": [
    {
     "data": {
      "text/html": [
       "<div>\n",
       "<style scoped>\n",
       "    .dataframe tbody tr th:only-of-type {\n",
       "        vertical-align: middle;\n",
       "    }\n",
       "\n",
       "    .dataframe tbody tr th {\n",
       "        vertical-align: top;\n",
       "    }\n",
       "\n",
       "    .dataframe thead th {\n",
       "        text-align: right;\n",
       "    }\n",
       "</style>\n",
       "<table border=\"1\" class=\"dataframe\">\n",
       "  <thead>\n",
       "    <tr style=\"text-align: right;\">\n",
       "      <th>credit_default</th>\n",
       "      <th>no</th>\n",
       "      <th>yes</th>\n",
       "    </tr>\n",
       "    <tr>\n",
       "      <th>ba-apr</th>\n",
       "      <th></th>\n",
       "      <th></th>\n",
       "    </tr>\n",
       "  </thead>\n",
       "  <tbody>\n",
       "    <tr>\n",
       "      <th>-250000</th>\n",
       "      <td>1.000000</td>\n",
       "      <td>0.000000</td>\n",
       "    </tr>\n",
       "    <tr>\n",
       "      <th>-200000</th>\n",
       "      <td>1.000000</td>\n",
       "      <td>0.000000</td>\n",
       "    </tr>\n",
       "    <tr>\n",
       "      <th>-100000</th>\n",
       "      <td>1.000000</td>\n",
       "      <td>0.000000</td>\n",
       "    </tr>\n",
       "    <tr>\n",
       "      <th>-50000</th>\n",
       "      <td>0.806306</td>\n",
       "      <td>0.193694</td>\n",
       "    </tr>\n",
       "    <tr>\n",
       "      <th>0</th>\n",
       "      <td>0.770836</td>\n",
       "      <td>0.229164</td>\n",
       "    </tr>\n",
       "    <tr>\n",
       "      <th>50000</th>\n",
       "      <td>0.796888</td>\n",
       "      <td>0.203112</td>\n",
       "    </tr>\n",
       "    <tr>\n",
       "      <th>100000</th>\n",
       "      <td>0.792079</td>\n",
       "      <td>0.207921</td>\n",
       "    </tr>\n",
       "    <tr>\n",
       "      <th>150000</th>\n",
       "      <td>0.831650</td>\n",
       "      <td>0.168350</td>\n",
       "    </tr>\n",
       "    <tr>\n",
       "      <th>200000</th>\n",
       "      <td>0.824000</td>\n",
       "      <td>0.176000</td>\n",
       "    </tr>\n",
       "    <tr>\n",
       "      <th>250000</th>\n",
       "      <td>0.816901</td>\n",
       "      <td>0.183099</td>\n",
       "    </tr>\n",
       "    <tr>\n",
       "      <th>300000</th>\n",
       "      <td>0.764706</td>\n",
       "      <td>0.235294</td>\n",
       "    </tr>\n",
       "    <tr>\n",
       "      <th>350000</th>\n",
       "      <td>0.818182</td>\n",
       "      <td>0.181818</td>\n",
       "    </tr>\n",
       "    <tr>\n",
       "      <th>400000</th>\n",
       "      <td>0.636364</td>\n",
       "      <td>0.363636</td>\n",
       "    </tr>\n",
       "    <tr>\n",
       "      <th>450000</th>\n",
       "      <td>0.571429</td>\n",
       "      <td>0.428571</td>\n",
       "    </tr>\n",
       "    <tr>\n",
       "      <th>500000</th>\n",
       "      <td>1.000000</td>\n",
       "      <td>0.000000</td>\n",
       "    </tr>\n",
       "    <tr>\n",
       "      <th>550000</th>\n",
       "      <td>1.000000</td>\n",
       "      <td>0.000000</td>\n",
       "    </tr>\n",
       "  </tbody>\n",
       "</table>\n",
       "</div>"
      ],
      "text/plain": [
       "credit_default        no       yes\n",
       "ba-apr                            \n",
       "-250000         1.000000  0.000000\n",
       "-200000         1.000000  0.000000\n",
       "-100000         1.000000  0.000000\n",
       "-50000          0.806306  0.193694\n",
       " 0              0.770836  0.229164\n",
       " 50000          0.796888  0.203112\n",
       " 100000         0.792079  0.207921\n",
       " 150000         0.831650  0.168350\n",
       " 200000         0.824000  0.176000\n",
       " 250000         0.816901  0.183099\n",
       " 300000         0.764706  0.235294\n",
       " 350000         0.818182  0.181818\n",
       " 400000         0.636364  0.363636\n",
       " 450000         0.571429  0.428571\n",
       " 500000         1.000000  0.000000\n",
       " 550000         1.000000  0.000000"
      ]
     },
     "execution_count": 199,
     "metadata": {},
     "output_type": "execute_result"
    }
   ],
   "source": [
    "ba_default_norm = []\n",
    "\n",
    "for i in range(0, len(ba_var)):\n",
    "    ba_default_norm.append(ba_default[i].div(ba_default[i].sum(1).astype(float), axis=0) )\n",
    "    \n",
    "ba_default_norm[0]"
   ]
  },
  {
   "cell_type": "code",
   "execution_count": 202,
   "metadata": {
    "scrolled": false
   },
   "outputs": [
    {
     "data": {
      "image/png": "[encoded data removed]",
      "text/plain": [
       "<Figure size 1080x1080 with 6 Axes>"
      ]
     },
     "metadata": {},
     "output_type": "display_data"
    }
   ],
   "source": [
    "# Set up a grid of plots\n",
    "fig = plt.figure(figsize=(15, 15)) \n",
    "fig_dims = (3, 2)\n",
    "\n",
    "for i in range(0, len(ba_var)):\n",
    "    x = i // fig_dims[1]\n",
    "    y = i % fig_dims[1]\n",
    "    sp = plt.subplot2grid(fig_dims, (x, y))\n",
    "    ba_default_norm[0].plot(ax=sp, kind='bar', stacked=True, title='Credit card default by ' + ba_var[i], edgecolor='black')\n",
    "    plt.xticks(rotation=-45)\n",
    "    \n",
    "plt.show()"
   ]
  },
  {
   "cell_type": "markdown",
   "metadata": {},
   "source": [
    "Payment Amount\n",
    "--------"
   ]
  },
  {
   "cell_type": "code",
   "execution_count": 62,
   "metadata": {},
   "outputs": [
    {
     "data": {
      "text/html": [
       "<div>\n",
       "<style scoped>\n",
       "    .dataframe tbody tr th:only-of-type {\n",
       "        vertical-align: middle;\n",
       "    }\n",
       "\n",
       "    .dataframe tbody tr th {\n",
       "        vertical-align: top;\n",
       "    }\n",
       "\n",
       "    .dataframe thead th {\n",
       "        text-align: right;\n",
       "    }\n",
       "</style>\n",
       "<table border=\"1\" class=\"dataframe\">\n",
       "  <thead>\n",
       "    <tr style=\"text-align: right;\">\n",
       "      <th></th>\n",
       "      <th>pa-apr</th>\n",
       "      <th>pa-may</th>\n",
       "      <th>pa-jun</th>\n",
       "      <th>pa-jul</th>\n",
       "      <th>pa-aug</th>\n",
       "      <th>pa-sep</th>\n",
       "    </tr>\n",
       "  </thead>\n",
       "  <tbody>\n",
       "    <tr>\n",
       "      <th>count</th>\n",
       "      <td>10000.000000</td>\n",
       "      <td>10000.000000</td>\n",
       "      <td>10000.000000</td>\n",
       "      <td>10000.000000</td>\n",
       "      <td>1.000000e+04</td>\n",
       "      <td>10000.000000</td>\n",
       "    </tr>\n",
       "    <tr>\n",
       "      <th>mean</th>\n",
       "      <td>5480.147400</td>\n",
       "      <td>4734.702900</td>\n",
       "      <td>4719.769200</td>\n",
       "      <td>5131.898600</td>\n",
       "      <td>5.973676e+03</td>\n",
       "      <td>5651.344900</td>\n",
       "    </tr>\n",
       "    <tr>\n",
       "      <th>std</th>\n",
       "      <td>19361.411204</td>\n",
       "      <td>14912.375475</td>\n",
       "      <td>14483.407778</td>\n",
       "      <td>15416.402957</td>\n",
       "      <td>2.251175e+04</td>\n",
       "      <td>15835.839092</td>\n",
       "    </tr>\n",
       "    <tr>\n",
       "      <th>min</th>\n",
       "      <td>0.000000</td>\n",
       "      <td>0.000000</td>\n",
       "      <td>0.000000</td>\n",
       "      <td>0.000000</td>\n",
       "      <td>0.000000e+00</td>\n",
       "      <td>0.000000</td>\n",
       "    </tr>\n",
       "    <tr>\n",
       "      <th>25%</th>\n",
       "      <td>100.000000</td>\n",
       "      <td>200.000000</td>\n",
       "      <td>261.500000</td>\n",
       "      <td>390.000000</td>\n",
       "      <td>7.800000e+02</td>\n",
       "      <td>997.000000</td>\n",
       "    </tr>\n",
       "    <tr>\n",
       "      <th>50%</th>\n",
       "      <td>1500.000000</td>\n",
       "      <td>1500.000000</td>\n",
       "      <td>1500.000000</td>\n",
       "      <td>1800.000000</td>\n",
       "      <td>2.000000e+03</td>\n",
       "      <td>2081.500000</td>\n",
       "    </tr>\n",
       "    <tr>\n",
       "      <th>75%</th>\n",
       "      <td>4000.000000</td>\n",
       "      <td>4000.000000</td>\n",
       "      <td>4000.000000</td>\n",
       "      <td>4500.000000</td>\n",
       "      <td>5.000000e+03</td>\n",
       "      <td>5019.000000</td>\n",
       "    </tr>\n",
       "    <tr>\n",
       "      <th>max</th>\n",
       "      <td>528666.000000</td>\n",
       "      <td>417990.000000</td>\n",
       "      <td>292962.000000</td>\n",
       "      <td>417588.000000</td>\n",
       "      <td>1.227082e+06</td>\n",
       "      <td>493358.000000</td>\n",
       "    </tr>\n",
       "  </tbody>\n",
       "</table>\n",
       "</div>"
      ],
      "text/plain": [
       "              pa-apr         pa-may         pa-jun         pa-jul  \\\n",
       "count   10000.000000   10000.000000   10000.000000   10000.000000   \n",
       "mean     5480.147400    4734.702900    4719.769200    5131.898600   \n",
       "std     19361.411204   14912.375475   14483.407778   15416.402957   \n",
       "min         0.000000       0.000000       0.000000       0.000000   \n",
       "25%       100.000000     200.000000     261.500000     390.000000   \n",
       "50%      1500.000000    1500.000000    1500.000000    1800.000000   \n",
       "75%      4000.000000    4000.000000    4000.000000    4500.000000   \n",
       "max    528666.000000  417990.000000  292962.000000  417588.000000   \n",
       "\n",
       "             pa-aug         pa-sep  \n",
       "count  1.000000e+04   10000.000000  \n",
       "mean   5.973676e+03    5651.344900  \n",
       "std    2.251175e+04   15835.839092  \n",
       "min    0.000000e+00       0.000000  \n",
       "25%    7.800000e+02     997.000000  \n",
       "50%    2.000000e+03    2081.500000  \n",
       "75%    5.000000e+03    5019.000000  \n",
       "max    1.227082e+06  493358.000000  "
      ]
     },
     "execution_count": 62,
     "metadata": {},
     "output_type": "execute_result"
    }
   ],
   "source": [
    "pa_var = ['pa-apr', 'pa-may', 'pa-jun', 'pa-jul', 'pa-aug', 'pa-sep']\n",
    "cc[pa_var].describe()"
   ]
  },
  {
   "cell_type": "code",
   "execution_count": 63,
   "metadata": {},
   "outputs": [
    {
     "data": {
      "text/plain": [
       "[[0, 528666], [0, 417990], [0, 292962], [0, 417588], [0, 1227082], [0, 493358]]"
      ]
     },
     "execution_count": 63,
     "metadata": {},
     "output_type": "execute_result"
    }
   ],
   "source": [
    "pa_unique = []\n",
    "for m in pa_var:\n",
    "    val = cc[m].unique()\n",
    "    val.sort()\n",
    "    pa_unique.append([min(val), max(val)])\n",
    "pa_unique"
   ]
  },
  {
   "cell_type": "code",
   "execution_count": 64,
   "metadata": {},
   "outputs": [
    {
     "data": {
      "text/plain": [
       "pa-apr    0\n",
       "pa-may    0\n",
       "pa-jun    0\n",
       "pa-jul    0\n",
       "pa-aug    0\n",
       "pa-sep    0\n",
       "dtype: int64"
      ]
     },
     "execution_count": 64,
     "metadata": {},
     "output_type": "execute_result"
    }
   ],
   "source": [
    "cc.isnull().sum()[pa_var]"
   ]
  },
  {
   "cell_type": "code",
   "execution_count": 65,
   "metadata": {},
   "outputs": [
    {
     "data": {
      "text/html": [
       "<div>\n",
       "<style scoped>\n",
       "    .dataframe tbody tr th:only-of-type {\n",
       "        vertical-align: middle;\n",
       "    }\n",
       "\n",
       "    .dataframe tbody tr th {\n",
       "        vertical-align: top;\n",
       "    }\n",
       "\n",
       "    .dataframe thead th {\n",
       "        text-align: right;\n",
       "    }\n",
       "</style>\n",
       "<table border=\"1\" class=\"dataframe\">\n",
       "  <thead>\n",
       "    <tr style=\"text-align: right;\">\n",
       "      <th>credit_default</th>\n",
       "      <th>no</th>\n",
       "      <th>yes</th>\n",
       "    </tr>\n",
       "    <tr>\n",
       "      <th>pa-aug</th>\n",
       "      <th></th>\n",
       "      <th></th>\n",
       "    </tr>\n",
       "  </thead>\n",
       "  <tbody>\n",
       "    <tr>\n",
       "      <th>0</th>\n",
       "      <td>7633</td>\n",
       "      <td>2203</td>\n",
       "    </tr>\n",
       "    <tr>\n",
       "      <th>50</th>\n",
       "      <td>83</td>\n",
       "      <td>6</td>\n",
       "    </tr>\n",
       "    <tr>\n",
       "      <th>100</th>\n",
       "      <td>40</td>\n",
       "      <td>0</td>\n",
       "    </tr>\n",
       "    <tr>\n",
       "      <th>150</th>\n",
       "      <td>16</td>\n",
       "      <td>0</td>\n",
       "    </tr>\n",
       "    <tr>\n",
       "      <th>200</th>\n",
       "      <td>6</td>\n",
       "      <td>0</td>\n",
       "    </tr>\n",
       "    <tr>\n",
       "      <th>250</th>\n",
       "      <td>2</td>\n",
       "      <td>1</td>\n",
       "    </tr>\n",
       "    <tr>\n",
       "      <th>300</th>\n",
       "      <td>2</td>\n",
       "      <td>2</td>\n",
       "    </tr>\n",
       "    <tr>\n",
       "      <th>350</th>\n",
       "      <td>3</td>\n",
       "      <td>0</td>\n",
       "    </tr>\n",
       "    <tr>\n",
       "      <th>400</th>\n",
       "      <td>1</td>\n",
       "      <td>0</td>\n",
       "    </tr>\n",
       "    <tr>\n",
       "      <th>550</th>\n",
       "      <td>1</td>\n",
       "      <td>0</td>\n",
       "    </tr>\n",
       "    <tr>\n",
       "      <th>1200</th>\n",
       "      <td>1</td>\n",
       "      <td>0</td>\n",
       "    </tr>\n",
       "  </tbody>\n",
       "</table>\n",
       "</div>"
      ],
      "text/plain": [
       "credit_default    no   yes\n",
       "pa-aug                    \n",
       "0               7633  2203\n",
       "50                83     6\n",
       "100               40     0\n",
       "150               16     0\n",
       "200                6     0\n",
       "250                2     1\n",
       "300                2     2\n",
       "350                3     0\n",
       "400                1     0\n",
       "550                1     0\n",
       "1200               1     0"
      ]
     },
     "execution_count": 65,
     "metadata": {},
     "output_type": "execute_result"
    }
   ],
   "source": [
    "pa_default = []\n",
    "\n",
    "for m in pa_var:\n",
    "    pa_default.append(pd.crosstab(cc[m]//50000*50, cc['credit_default']))\n",
    "    \n",
    "pa_default[4]"
   ]
  },
  {
   "cell_type": "code",
   "execution_count": 116,
   "metadata": {
    "scrolled": false
   },
   "outputs": [
    {
     "data": {
      "image/png": "[encoded data removed]",
      "text/plain": [
       "<Figure size 1080x1080 with 6 Axes>"
      ]
     },
     "metadata": {},
     "output_type": "display_data"
    }
   ],
   "source": [
    "# Set up a grid of plots\n",
    "fig = plt.figure(figsize=(15, 15)) \n",
    "fig_dims = (3, 2)\n",
    "\n",
    "for i in range(0, len(pa_var)):\n",
    "    x = i // fig_dims[1]\n",
    "    y = i % fig_dims[1]\n",
    "    sp = plt.subplot2grid(fig_dims, (x, y))\n",
    "    pa_default[0].plot(ax=sp, kind='bar', stacked=True, title='Credit card default by ' + pa_var[i], edgecolor='black')\n",
    "    plt.xticks(rotation=0)\n",
    "\n",
    "plt.show()"
   ]
  },
  {
   "cell_type": "code",
   "execution_count": 67,
   "metadata": {
    "scrolled": true
   },
   "outputs": [
    {
     "data": {
      "text/html": [
       "<div>\n",
       "<style scoped>\n",
       "    .dataframe tbody tr th:only-of-type {\n",
       "        vertical-align: middle;\n",
       "    }\n",
       "\n",
       "    .dataframe tbody tr th {\n",
       "        vertical-align: top;\n",
       "    }\n",
       "\n",
       "    .dataframe thead th {\n",
       "        text-align: right;\n",
       "    }\n",
       "</style>\n",
       "<table border=\"1\" class=\"dataframe\">\n",
       "  <thead>\n",
       "    <tr style=\"text-align: right;\">\n",
       "      <th>credit_default</th>\n",
       "      <th>no</th>\n",
       "      <th>yes</th>\n",
       "    </tr>\n",
       "    <tr>\n",
       "      <th>pa-may</th>\n",
       "      <th></th>\n",
       "      <th></th>\n",
       "    </tr>\n",
       "  </thead>\n",
       "  <tbody>\n",
       "    <tr>\n",
       "      <th>0</th>\n",
       "      <td>0.776662</td>\n",
       "      <td>0.223338</td>\n",
       "    </tr>\n",
       "    <tr>\n",
       "      <th>50</th>\n",
       "      <td>0.931034</td>\n",
       "      <td>0.068966</td>\n",
       "    </tr>\n",
       "    <tr>\n",
       "      <th>100</th>\n",
       "      <td>0.857143</td>\n",
       "      <td>0.142857</td>\n",
       "    </tr>\n",
       "    <tr>\n",
       "      <th>150</th>\n",
       "      <td>1.000000</td>\n",
       "      <td>0.000000</td>\n",
       "    </tr>\n",
       "    <tr>\n",
       "      <th>200</th>\n",
       "      <td>1.000000</td>\n",
       "      <td>0.000000</td>\n",
       "    </tr>\n",
       "    <tr>\n",
       "      <th>250</th>\n",
       "      <td>1.000000</td>\n",
       "      <td>0.000000</td>\n",
       "    </tr>\n",
       "    <tr>\n",
       "      <th>300</th>\n",
       "      <td>1.000000</td>\n",
       "      <td>0.000000</td>\n",
       "    </tr>\n",
       "    <tr>\n",
       "      <th>400</th>\n",
       "      <td>1.000000</td>\n",
       "      <td>0.000000</td>\n",
       "    </tr>\n",
       "  </tbody>\n",
       "</table>\n",
       "</div>"
      ],
      "text/plain": [
       "credit_default        no       yes\n",
       "pa-may                            \n",
       "0               0.776662  0.223338\n",
       "50              0.931034  0.068966\n",
       "100             0.857143  0.142857\n",
       "150             1.000000  0.000000\n",
       "200             1.000000  0.000000\n",
       "250             1.000000  0.000000\n",
       "300             1.000000  0.000000\n",
       "400             1.000000  0.000000"
      ]
     },
     "execution_count": 67,
     "metadata": {},
     "output_type": "execute_result"
    }
   ],
   "source": [
    "pa_default_norm = []\n",
    "\n",
    "for i in range(0, len(pa_var)):\n",
    "    pa_default_norm.append(pa_default[i].div(pa_default[i].sum(1).astype(float), axis=0) )\n",
    "    \n",
    "pa_default_norm[1]"
   ]
  },
  {
   "cell_type": "code",
   "execution_count": 117,
   "metadata": {
    "scrolled": false
   },
   "outputs": [
    {
     "data": {
      "image/png": "[encoded data removed]",
      "text/plain": [
       "<Figure size 1080x1080 with 6 Axes>"
      ]
     },
     "metadata": {},
     "output_type": "display_data"
    }
   ],
   "source": [
    "# Set up a grid of plots\n",
    "fig = plt.figure(figsize=(15, 15)) \n",
    "fig_dims = (3, 2)\n",
    "\n",
    "for i in range(0, len(pa_var)):\n",
    "    x = i // fig_dims[1]\n",
    "    y = i % fig_dims[1]\n",
    "    sp = plt.subplot2grid(fig_dims, (x, y))\n",
    "    pa_default_norm[0].plot(ax=sp, kind='bar', stacked=True, title='Credit card default by ' + pa_var[i], edgecolor='black')\n",
    "    plt.xticks(rotation=0)\n",
    "    \n",
    "plt.show()"
   ]
  },
  {
   "cell_type": "markdown",
   "metadata": {},
   "source": [
    "Correlation matrix\n",
    "--------------------------"
   ]
  },
  {
   "cell_type": "code",
   "execution_count": 209,
   "metadata": {},
   "outputs": [
    {
     "data": {
      "text/plain": [
       "(array([ 0.5,  1.5,  2.5,  3.5,  4.5,  5.5,  6.5,  7.5,  8.5,  9.5, 10.5,\n",
       "        11.5, 12.5, 13.5]), <a list of 14 Text xticklabel objects>)"
      ]
     },
     "execution_count": 209,
     "metadata": {},
     "output_type": "execute_result"
    },
    {
     "data": {
      "image/png": "[encoded data removed]",
      "text/plain": [
       "<Figure size 720x576 with 2 Axes>"
      ]
     },
     "metadata": {},
     "output_type": "display_data"
    }
   ],
   "source": [
    "cont_var = [\"limit\",\"age\"]+ba_var+pa_var\n",
    "\n",
    "f, ax = plt.subplots(figsize=(10, 8))\n",
    "\n",
    "corr = cc[cont_var].corr()\n",
    "\n",
    "g = sns.heatmap(corr, cmap=\"coolwarm\", vmin=0, vmax=1, annot=True, mask=np.zeros_like(corr, dtype=np.bool), square=True, ax=ax, edgecolor='black')\n",
    "plt.xticks(rotation=315)"
   ]
  },
  {
   "cell_type": "code",
   "execution_count": 70,
   "metadata": {},
   "outputs": [
    {
     "data": {
      "text/html": [
       "<div>\n",
       "<style scoped>\n",
       "    .dataframe tbody tr th:only-of-type {\n",
       "        vertical-align: middle;\n",
       "    }\n",
       "\n",
       "    .dataframe tbody tr th {\n",
       "        vertical-align: top;\n",
       "    }\n",
       "\n",
       "    .dataframe thead th {\n",
       "        text-align: right;\n",
       "    }\n",
       "</style>\n",
       "<table border=\"1\" class=\"dataframe\">\n",
       "  <thead>\n",
       "    <tr style=\"text-align: right;\">\n",
       "      <th></th>\n",
       "      <th>ba-apr</th>\n",
       "      <th>ba-may</th>\n",
       "      <th>ba-jun</th>\n",
       "      <th>ba-jul</th>\n",
       "      <th>ba-aug</th>\n",
       "      <th>ba-sep</th>\n",
       "      <th>mean</th>\n",
       "    </tr>\n",
       "  </thead>\n",
       "  <tbody>\n",
       "    <tr>\n",
       "      <th>0</th>\n",
       "      <td>30302</td>\n",
       "      <td>30358</td>\n",
       "      <td>49535</td>\n",
       "      <td>50760</td>\n",
       "      <td>49985</td>\n",
       "      <td>48966</td>\n",
       "      <td>43317.666667</td>\n",
       "    </tr>\n",
       "    <tr>\n",
       "      <th>1</th>\n",
       "      <td>7956</td>\n",
       "      <td>4616</td>\n",
       "      <td>6335</td>\n",
       "      <td>7843</td>\n",
       "      <td>9981</td>\n",
       "      <td>10755</td>\n",
       "      <td>7914.333333</td>\n",
       "    </tr>\n",
       "    <tr>\n",
       "      <th>2</th>\n",
       "      <td>29047</td>\n",
       "      <td>29731</td>\n",
       "      <td>30496</td>\n",
       "      <td>30206</td>\n",
       "      <td>29280</td>\n",
       "      <td>30057</td>\n",
       "      <td>29802.833333</td>\n",
       "    </tr>\n",
       "    <tr>\n",
       "      <th>3</th>\n",
       "      <td>23783</td>\n",
       "      <td>26855</td>\n",
       "      <td>25224</td>\n",
       "      <td>42823</td>\n",
       "      <td>41717</td>\n",
       "      <td>56426</td>\n",
       "      <td>36138.000000</td>\n",
       "    </tr>\n",
       "    <tr>\n",
       "      <th>4</th>\n",
       "      <td>52773</td>\n",
       "      <td>49601</td>\n",
       "      <td>48738</td>\n",
       "      <td>47632</td>\n",
       "      <td>48716</td>\n",
       "      <td>47987</td>\n",
       "      <td>49241.166667</td>\n",
       "    </tr>\n",
       "  </tbody>\n",
       "</table>\n",
       "</div>"
      ],
      "text/plain": [
       "   ba-apr  ba-may  ba-jun  ba-jul  ba-aug  ba-sep          mean\n",
       "0   30302   30358   49535   50760   49985   48966  43317.666667\n",
       "1    7956    4616    6335    7843    9981   10755   7914.333333\n",
       "2   29047   29731   30496   30206   29280   30057  29802.833333\n",
       "3   23783   26855   25224   42823   41717   56426  36138.000000\n",
       "4   52773   49601   48738   47632   48716   47987  49241.166667"
      ]
     },
     "execution_count": 70,
     "metadata": {},
     "output_type": "execute_result"
    }
   ],
   "source": [
    "ba_df = cc[ba_var]\n",
    "ba_df = ba_df.assign(mean=ba_df.mean(axis=1))\n",
    "ba_df.head()"
   ]
  },
  {
   "cell_type": "code",
   "execution_count": 211,
   "metadata": {},
   "outputs": [
    {
     "data": {
      "text/plain": [
       "(array([0.5, 1.5, 2.5, 3.5, 4.5, 5.5, 6.5]),\n",
       " <a list of 7 Text yticklabel objects>)"
      ]
     },
     "execution_count": 211,
     "metadata": {},
     "output_type": "execute_result"
    },
    {
     "data": {
      "image/png": "[encoded data removed]",
      "text/plain": [
       "<Figure size 720x576 with 2 Axes>"
      ]
     },
     "metadata": {},
     "output_type": "display_data"
    }
   ],
   "source": [
    "f, ax = plt.subplots(figsize=(10, 8))\n",
    "corr = ba_df.corr()\n",
    "sns.heatmap(corr, cmap=\"coolwarm\", vmin=-1, vmax=1, annot=True, mask=np.zeros_like(corr, dtype=np.bool), square=True, ax=ax)\n",
    "plt.xticks(rotation=315)\n",
    "plt.yticks(rotation=0)"
   ]
  },
  {
   "cell_type": "markdown",
   "metadata": {},
   "source": [
    "Data quality\n",
    "------------"
   ]
  },
  {
   "cell_type": "code",
   "execution_count": 72,
   "metadata": {},
   "outputs": [],
   "source": [
    "#cc['pa-apr'].describe()"
   ]
  },
  {
   "cell_type": "code",
   "execution_count": 73,
   "metadata": {},
   "outputs": [],
   "source": [
    "#len(cc[cc['limit'] > 240000])"
   ]
  },
  {
   "cell_type": "code",
   "execution_count": 74,
   "metadata": {},
   "outputs": [],
   "source": [
    "#boxplot = cc.boxplot(column=['pa-apr'])"
   ]
  },
  {
   "cell_type": "markdown",
   "metadata": {},
   "source": [
    "Variable transformation\n",
    "------------"
   ]
  },
  {
   "cell_type": "code",
   "execution_count": 75,
   "metadata": {},
   "outputs": [
    {
     "data": {
      "text/html": [
       "<div>\n",
       "<style scoped>\n",
       "    .dataframe tbody tr th:only-of-type {\n",
       "        vertical-align: middle;\n",
       "    }\n",
       "\n",
       "    .dataframe tbody tr th {\n",
       "        vertical-align: top;\n",
       "    }\n",
       "\n",
       "    .dataframe thead th {\n",
       "        text-align: right;\n",
       "    }\n",
       "</style>\n",
       "<table border=\"1\" class=\"dataframe\">\n",
       "  <thead>\n",
       "    <tr style=\"text-align: right;\">\n",
       "      <th></th>\n",
       "      <th>limit</th>\n",
       "      <th>sex</th>\n",
       "      <th>education</th>\n",
       "      <th>status</th>\n",
       "      <th>age</th>\n",
       "      <th>ps-sep</th>\n",
       "      <th>ps-aug</th>\n",
       "      <th>ps-jul</th>\n",
       "      <th>ps-jun</th>\n",
       "      <th>ps-may</th>\n",
       "      <th>ps-apr</th>\n",
       "      <th>pa-sep</th>\n",
       "      <th>pa-aug</th>\n",
       "      <th>pa-jul</th>\n",
       "      <th>pa-jun</th>\n",
       "      <th>pa-may</th>\n",
       "      <th>pa-apr</th>\n",
       "      <th>credit_default</th>\n",
       "      <th>ba_mean</th>\n",
       "    </tr>\n",
       "  </thead>\n",
       "  <tbody>\n",
       "    <tr>\n",
       "      <th>0</th>\n",
       "      <td>50000</td>\n",
       "      <td>male</td>\n",
       "      <td>graduate school</td>\n",
       "      <td>NaN</td>\n",
       "      <td>25</td>\n",
       "      <td>2</td>\n",
       "      <td>0</td>\n",
       "      <td>0</td>\n",
       "      <td>0</td>\n",
       "      <td>0</td>\n",
       "      <td>0</td>\n",
       "      <td>2130</td>\n",
       "      <td>1905</td>\n",
       "      <td>1811</td>\n",
       "      <td>1100</td>\n",
       "      <td>1100</td>\n",
       "      <td>1200</td>\n",
       "      <td>no</td>\n",
       "      <td>43317.666667</td>\n",
       "    </tr>\n",
       "    <tr>\n",
       "      <th>1</th>\n",
       "      <td>200000</td>\n",
       "      <td>male</td>\n",
       "      <td>university</td>\n",
       "      <td>married</td>\n",
       "      <td>54</td>\n",
       "      <td>-1</td>\n",
       "      <td>-1</td>\n",
       "      <td>-1</td>\n",
       "      <td>-1</td>\n",
       "      <td>-1</td>\n",
       "      <td>-1</td>\n",
       "      <td>10120</td>\n",
       "      <td>7852</td>\n",
       "      <td>6336</td>\n",
       "      <td>4622</td>\n",
       "      <td>7956</td>\n",
       "      <td>5499</td>\n",
       "      <td>no</td>\n",
       "      <td>7914.333333</td>\n",
       "    </tr>\n",
       "    <tr>\n",
       "      <th>2</th>\n",
       "      <td>30000</td>\n",
       "      <td>female</td>\n",
       "      <td>high school</td>\n",
       "      <td>married</td>\n",
       "      <td>-1</td>\n",
       "      <td>2</td>\n",
       "      <td>3</td>\n",
       "      <td>2</td>\n",
       "      <td>2</td>\n",
       "      <td>2</td>\n",
       "      <td>0</td>\n",
       "      <td>0</td>\n",
       "      <td>1700</td>\n",
       "      <td>1100</td>\n",
       "      <td>3</td>\n",
       "      <td>1053</td>\n",
       "      <td>1303</td>\n",
       "      <td>no</td>\n",
       "      <td>29802.833333</td>\n",
       "    </tr>\n",
       "    <tr>\n",
       "      <th>3</th>\n",
       "      <td>140000</td>\n",
       "      <td>female</td>\n",
       "      <td>university</td>\n",
       "      <td>single</td>\n",
       "      <td>-1</td>\n",
       "      <td>0</td>\n",
       "      <td>0</td>\n",
       "      <td>0</td>\n",
       "      <td>0</td>\n",
       "      <td>0</td>\n",
       "      <td>0</td>\n",
       "      <td>2000</td>\n",
       "      <td>2000</td>\n",
       "      <td>900</td>\n",
       "      <td>2000</td>\n",
       "      <td>10000</td>\n",
       "      <td>5000</td>\n",
       "      <td>no</td>\n",
       "      <td>36138.000000</td>\n",
       "    </tr>\n",
       "    <tr>\n",
       "      <th>4</th>\n",
       "      <td>60000</td>\n",
       "      <td>female</td>\n",
       "      <td>high school</td>\n",
       "      <td>married</td>\n",
       "      <td>36</td>\n",
       "      <td>1</td>\n",
       "      <td>2</td>\n",
       "      <td>2</td>\n",
       "      <td>0</td>\n",
       "      <td>0</td>\n",
       "      <td>0</td>\n",
       "      <td>1788</td>\n",
       "      <td>0</td>\n",
       "      <td>1894</td>\n",
       "      <td>1801</td>\n",
       "      <td>3997</td>\n",
       "      <td>0</td>\n",
       "      <td>yes</td>\n",
       "      <td>49241.166667</td>\n",
       "    </tr>\n",
       "  </tbody>\n",
       "</table>\n",
       "</div>"
      ],
      "text/plain": [
       "    limit     sex        education   status  age  ps-sep  ps-aug  ps-jul  \\\n",
       "0   50000    male  graduate school      NaN   25       2       0       0   \n",
       "1  200000    male       university  married   54      -1      -1      -1   \n",
       "2   30000  female      high school  married   -1       2       3       2   \n",
       "3  140000  female       university   single   -1       0       0       0   \n",
       "4   60000  female      high school  married   36       1       2       2   \n",
       "\n",
       "   ps-jun  ps-may  ps-apr  pa-sep  pa-aug  pa-jul  pa-jun  pa-may  pa-apr  \\\n",
       "0       0       0       0    2130    1905    1811    1100    1100    1200   \n",
       "1      -1      -1      -1   10120    7852    6336    4622    7956    5499   \n",
       "2       2       2       0       0    1700    1100       3    1053    1303   \n",
       "3       0       0       0    2000    2000     900    2000   10000    5000   \n",
       "4       0       0       0    1788       0    1894    1801    3997       0   \n",
       "\n",
       "  credit_default       ba_mean  \n",
       "0             no  43317.666667  \n",
       "1             no   7914.333333  \n",
       "2             no  29802.833333  \n",
       "3             no  36138.000000  \n",
       "4            yes  49241.166667  "
      ]
     },
     "execution_count": 75,
     "metadata": {},
     "output_type": "execute_result"
    }
   ],
   "source": [
    "cc_clean = cc\n",
    "\n",
    "if ba_var[0] in cc_clean.columns:\n",
    "    cc_clean = cc_clean.assign(ba_mean=cc_clean[ba_var].mean(axis=1))\n",
    "    cc_clean = cc_clean.drop(columns=ba_var)\n",
    "\n",
    "cc_clean.head()"
   ]
  }
 ],
 "metadata": {
  "kernelspec": {
   "display_name": "Python 2",
   "language": "python",
   "name": "python2"
  },
  "language_info": {
   "codemirror_mode": {
    "name": "ipython",
    "version": 3
   },
   "file_extension": ".py",
   "mimetype": "text/x-python",
   "name": "python",
   "nbconvert_exporter": "python",
   "pygments_lexer": "ipython3",
   "version": "3.7.1"
  },
  "toc": {
   "base_numbering": 1,
   "nav_menu": {},
   "number_sections": true,
   "sideBar": true,
   "skip_h1_title": false,
   "title_cell": "Table of Contents",
   "title_sidebar": "Contents",
   "toc_cell": false,
   "toc_position": {
    "height": "calc(100% - 180px)",
    "left": "10px",
    "top": "150px",
    "width": "277px"
   },
   "toc_section_display": true,
   "toc_window_display": true
  }
 },
 "nbformat": 4,
 "nbformat_minor": 2
}
