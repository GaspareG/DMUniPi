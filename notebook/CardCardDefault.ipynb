{
 "cells": [
  {
   "cell_type": "code",
   "execution_count": 1,
   "metadata": {
    "scrolled": true
   },
   "outputs": [],
   "source": [
    "%matplotlib inline\n",
    "import math\n",
    "import numpy as np\n",
    "import pandas as pd\n",
    "import scipy.stats as stats\n",
    "import matplotlib.pyplot as plt\n",
    "\n",
    "from collections import defaultdict\n",
    "from scipy.stats.stats import pearsonr"
   ]
  },
  {
   "cell_type": "markdown",
   "metadata": {},
   "source": [
    "Load dataset\n",
    "==============="
   ]
  },
  {
   "cell_type": "code",
   "execution_count": 2,
   "metadata": {},
   "outputs": [
    {
     "data": {
      "text/html": [
       "<div>\n",
       "<style scoped>\n",
       "    .dataframe tbody tr th:only-of-type {\n",
       "        vertical-align: middle;\n",
       "    }\n",
       "\n",
       "    .dataframe tbody tr th {\n",
       "        vertical-align: top;\n",
       "    }\n",
       "\n",
       "    .dataframe thead th {\n",
       "        text-align: right;\n",
       "    }\n",
       "</style>\n",
       "<table border=\"1\" class=\"dataframe\">\n",
       "  <thead>\n",
       "    <tr style=\"text-align: right;\">\n",
       "      <th></th>\n",
       "      <th>limit</th>\n",
       "      <th>sex</th>\n",
       "      <th>education</th>\n",
       "      <th>status</th>\n",
       "      <th>age</th>\n",
       "      <th>ps-sep</th>\n",
       "      <th>ps-aug</th>\n",
       "      <th>ps-jul</th>\n",
       "      <th>ps-jun</th>\n",
       "      <th>ps-may</th>\n",
       "      <th>...</th>\n",
       "      <th>ba-jun</th>\n",
       "      <th>ba-may</th>\n",
       "      <th>ba-apr</th>\n",
       "      <th>pa-sep</th>\n",
       "      <th>pa-aug</th>\n",
       "      <th>pa-jul</th>\n",
       "      <th>pa-jun</th>\n",
       "      <th>pa-may</th>\n",
       "      <th>pa-apr</th>\n",
       "      <th>credit_default</th>\n",
       "    </tr>\n",
       "  </thead>\n",
       "  <tbody>\n",
       "    <tr>\n",
       "      <th>0</th>\n",
       "      <td>50000</td>\n",
       "      <td>male</td>\n",
       "      <td>graduate school</td>\n",
       "      <td>NaN</td>\n",
       "      <td>25</td>\n",
       "      <td>2</td>\n",
       "      <td>0</td>\n",
       "      <td>0</td>\n",
       "      <td>0</td>\n",
       "      <td>0</td>\n",
       "      <td>...</td>\n",
       "      <td>49535</td>\n",
       "      <td>30358</td>\n",
       "      <td>30302</td>\n",
       "      <td>2130</td>\n",
       "      <td>1905</td>\n",
       "      <td>1811</td>\n",
       "      <td>1100</td>\n",
       "      <td>1100</td>\n",
       "      <td>1200</td>\n",
       "      <td>no</td>\n",
       "    </tr>\n",
       "    <tr>\n",
       "      <th>1</th>\n",
       "      <td>200000</td>\n",
       "      <td>male</td>\n",
       "      <td>university</td>\n",
       "      <td>married</td>\n",
       "      <td>54</td>\n",
       "      <td>-1</td>\n",
       "      <td>-1</td>\n",
       "      <td>-1</td>\n",
       "      <td>-1</td>\n",
       "      <td>-1</td>\n",
       "      <td>...</td>\n",
       "      <td>6335</td>\n",
       "      <td>4616</td>\n",
       "      <td>7956</td>\n",
       "      <td>10120</td>\n",
       "      <td>7852</td>\n",
       "      <td>6336</td>\n",
       "      <td>4622</td>\n",
       "      <td>7956</td>\n",
       "      <td>5499</td>\n",
       "      <td>no</td>\n",
       "    </tr>\n",
       "    <tr>\n",
       "      <th>2</th>\n",
       "      <td>30000</td>\n",
       "      <td>female</td>\n",
       "      <td>high school</td>\n",
       "      <td>married</td>\n",
       "      <td>-1</td>\n",
       "      <td>2</td>\n",
       "      <td>3</td>\n",
       "      <td>2</td>\n",
       "      <td>2</td>\n",
       "      <td>2</td>\n",
       "      <td>...</td>\n",
       "      <td>30496</td>\n",
       "      <td>29731</td>\n",
       "      <td>29047</td>\n",
       "      <td>0</td>\n",
       "      <td>1700</td>\n",
       "      <td>1100</td>\n",
       "      <td>3</td>\n",
       "      <td>1053</td>\n",
       "      <td>1303</td>\n",
       "      <td>no</td>\n",
       "    </tr>\n",
       "    <tr>\n",
       "      <th>3</th>\n",
       "      <td>140000</td>\n",
       "      <td>female</td>\n",
       "      <td>university</td>\n",
       "      <td>single</td>\n",
       "      <td>-1</td>\n",
       "      <td>0</td>\n",
       "      <td>0</td>\n",
       "      <td>0</td>\n",
       "      <td>0</td>\n",
       "      <td>0</td>\n",
       "      <td>...</td>\n",
       "      <td>25224</td>\n",
       "      <td>26855</td>\n",
       "      <td>23783</td>\n",
       "      <td>2000</td>\n",
       "      <td>2000</td>\n",
       "      <td>900</td>\n",
       "      <td>2000</td>\n",
       "      <td>10000</td>\n",
       "      <td>5000</td>\n",
       "      <td>no</td>\n",
       "    </tr>\n",
       "    <tr>\n",
       "      <th>4</th>\n",
       "      <td>60000</td>\n",
       "      <td>female</td>\n",
       "      <td>high school</td>\n",
       "      <td>married</td>\n",
       "      <td>36</td>\n",
       "      <td>1</td>\n",
       "      <td>2</td>\n",
       "      <td>2</td>\n",
       "      <td>0</td>\n",
       "      <td>0</td>\n",
       "      <td>...</td>\n",
       "      <td>48738</td>\n",
       "      <td>49601</td>\n",
       "      <td>52773</td>\n",
       "      <td>1788</td>\n",
       "      <td>0</td>\n",
       "      <td>1894</td>\n",
       "      <td>1801</td>\n",
       "      <td>3997</td>\n",
       "      <td>0</td>\n",
       "      <td>yes</td>\n",
       "    </tr>\n",
       "  </tbody>\n",
       "</table>\n",
       "<p>5 rows × 24 columns</p>\n",
       "</div>"
      ],
      "text/plain": [
       "    limit     sex        education   status  age  ps-sep  ps-aug  ps-jul  \\\n",
       "0   50000    male  graduate school      NaN   25       2       0       0   \n",
       "1  200000    male       university  married   54      -1      -1      -1   \n",
       "2   30000  female      high school  married   -1       2       3       2   \n",
       "3  140000  female       university   single   -1       0       0       0   \n",
       "4   60000  female      high school  married   36       1       2       2   \n",
       "\n",
       "   ps-jun  ps-may       ...        ba-jun  ba-may  ba-apr  pa-sep  pa-aug  \\\n",
       "0       0       0       ...         49535   30358   30302    2130    1905   \n",
       "1      -1      -1       ...          6335    4616    7956   10120    7852   \n",
       "2       2       2       ...         30496   29731   29047       0    1700   \n",
       "3       0       0       ...         25224   26855   23783    2000    2000   \n",
       "4       0       0       ...         48738   49601   52773    1788       0   \n",
       "\n",
       "   pa-jul  pa-jun  pa-may  pa-apr  credit_default  \n",
       "0    1811    1100    1100    1200              no  \n",
       "1    6336    4622    7956    5499              no  \n",
       "2    1100       3    1053    1303              no  \n",
       "3     900    2000   10000    5000              no  \n",
       "4    1894    1801    3997       0             yes  \n",
       "\n",
       "[5 rows x 24 columns]"
      ]
     },
     "execution_count": 2,
     "metadata": {},
     "output_type": "execute_result"
    }
   ],
   "source": [
    "cc = pd.read_csv(\"../dataset/credit_default_train.csv\")\n",
    "cc.head()"
   ]
  },
  {
   "cell_type": "code",
   "execution_count": 3,
   "metadata": {},
   "outputs": [
    {
     "data": {
      "text/plain": [
       "10000"
      ]
     },
     "execution_count": 3,
     "metadata": {},
     "output_type": "execute_result"
    }
   ],
   "source": [
    "cc.shape[0]"
   ]
  },
  {
   "cell_type": "code",
   "execution_count": 4,
   "metadata": {},
   "outputs": [
    {
     "data": {
      "text/html": [
       "<div>\n",
       "<style scoped>\n",
       "    .dataframe tbody tr th:only-of-type {\n",
       "        vertical-align: middle;\n",
       "    }\n",
       "\n",
       "    .dataframe tbody tr th {\n",
       "        vertical-align: top;\n",
       "    }\n",
       "\n",
       "    .dataframe thead th {\n",
       "        text-align: right;\n",
       "    }\n",
       "</style>\n",
       "<table border=\"1\" class=\"dataframe\">\n",
       "  <thead>\n",
       "    <tr style=\"text-align: right;\">\n",
       "      <th></th>\n",
       "      <th>limit</th>\n",
       "      <th>age</th>\n",
       "      <th>ps-sep</th>\n",
       "      <th>ps-aug</th>\n",
       "      <th>ps-jul</th>\n",
       "      <th>ps-jun</th>\n",
       "      <th>ps-may</th>\n",
       "      <th>ps-apr</th>\n",
       "      <th>ba-sep</th>\n",
       "      <th>ba-aug</th>\n",
       "      <th>ba-jul</th>\n",
       "      <th>ba-jun</th>\n",
       "      <th>ba-may</th>\n",
       "      <th>ba-apr</th>\n",
       "      <th>pa-sep</th>\n",
       "      <th>pa-aug</th>\n",
       "      <th>pa-jul</th>\n",
       "      <th>pa-jun</th>\n",
       "      <th>pa-may</th>\n",
       "      <th>pa-apr</th>\n",
       "    </tr>\n",
       "  </thead>\n",
       "  <tbody>\n",
       "    <tr>\n",
       "      <th>count</th>\n",
       "      <td>10000.000000</td>\n",
       "      <td>10000.000000</td>\n",
       "      <td>10000.000000</td>\n",
       "      <td>10000.000000</td>\n",
       "      <td>10000.000000</td>\n",
       "      <td>10000.000000</td>\n",
       "      <td>10000.000000</td>\n",
       "      <td>10000.000000</td>\n",
       "      <td>10000.000000</td>\n",
       "      <td>10000.000000</td>\n",
       "      <td>10000.00000</td>\n",
       "      <td>10000.000000</td>\n",
       "      <td>10000.000000</td>\n",
       "      <td>10000.000000</td>\n",
       "      <td>10000.000000</td>\n",
       "      <td>1.000000e+04</td>\n",
       "      <td>10000.000000</td>\n",
       "      <td>10000.000000</td>\n",
       "      <td>10000.000000</td>\n",
       "      <td>10000.000000</td>\n",
       "    </tr>\n",
       "    <tr>\n",
       "      <th>mean</th>\n",
       "      <td>167197.000000</td>\n",
       "      <td>32.020200</td>\n",
       "      <td>-0.004000</td>\n",
       "      <td>-0.127800</td>\n",
       "      <td>-0.175700</td>\n",
       "      <td>-0.234300</td>\n",
       "      <td>-0.263700</td>\n",
       "      <td>-0.297400</td>\n",
       "      <td>51490.704100</td>\n",
       "      <td>49239.438400</td>\n",
       "      <td>46957.46680</td>\n",
       "      <td>43306.114300</td>\n",
       "      <td>40182.130200</td>\n",
       "      <td>38621.582700</td>\n",
       "      <td>5651.344900</td>\n",
       "      <td>5.973676e+03</td>\n",
       "      <td>5131.898600</td>\n",
       "      <td>4719.769200</td>\n",
       "      <td>4734.702900</td>\n",
       "      <td>5480.147400</td>\n",
       "    </tr>\n",
       "    <tr>\n",
       "      <th>std</th>\n",
       "      <td>128975.488596</td>\n",
       "      <td>13.843119</td>\n",
       "      <td>1.132834</td>\n",
       "      <td>1.200921</td>\n",
       "      <td>1.193554</td>\n",
       "      <td>1.169333</td>\n",
       "      <td>1.147386</td>\n",
       "      <td>1.147295</td>\n",
       "      <td>73740.383345</td>\n",
       "      <td>70777.470286</td>\n",
       "      <td>68948.62697</td>\n",
       "      <td>64519.910263</td>\n",
       "      <td>60732.330157</td>\n",
       "      <td>59325.339137</td>\n",
       "      <td>15835.839092</td>\n",
       "      <td>2.251175e+04</td>\n",
       "      <td>15416.402957</td>\n",
       "      <td>14483.407778</td>\n",
       "      <td>14912.375475</td>\n",
       "      <td>19361.411204</td>\n",
       "    </tr>\n",
       "    <tr>\n",
       "      <th>min</th>\n",
       "      <td>10000.000000</td>\n",
       "      <td>-1.000000</td>\n",
       "      <td>-2.000000</td>\n",
       "      <td>-2.000000</td>\n",
       "      <td>-2.000000</td>\n",
       "      <td>-2.000000</td>\n",
       "      <td>-2.000000</td>\n",
       "      <td>-2.000000</td>\n",
       "      <td>-14386.000000</td>\n",
       "      <td>-69777.000000</td>\n",
       "      <td>-61506.00000</td>\n",
       "      <td>-24303.000000</td>\n",
       "      <td>-81334.000000</td>\n",
       "      <td>-209051.000000</td>\n",
       "      <td>0.000000</td>\n",
       "      <td>0.000000e+00</td>\n",
       "      <td>0.000000</td>\n",
       "      <td>0.000000</td>\n",
       "      <td>0.000000</td>\n",
       "      <td>0.000000</td>\n",
       "    </tr>\n",
       "    <tr>\n",
       "      <th>25%</th>\n",
       "      <td>50000.000000</td>\n",
       "      <td>26.000000</td>\n",
       "      <td>-1.000000</td>\n",
       "      <td>-1.000000</td>\n",
       "      <td>-1.000000</td>\n",
       "      <td>-1.000000</td>\n",
       "      <td>-1.000000</td>\n",
       "      <td>-1.000000</td>\n",
       "      <td>3545.250000</td>\n",
       "      <td>2899.250000</td>\n",
       "      <td>2442.50000</td>\n",
       "      <td>2203.250000</td>\n",
       "      <td>1650.000000</td>\n",
       "      <td>1150.000000</td>\n",
       "      <td>997.000000</td>\n",
       "      <td>7.800000e+02</td>\n",
       "      <td>390.000000</td>\n",
       "      <td>261.500000</td>\n",
       "      <td>200.000000</td>\n",
       "      <td>100.000000</td>\n",
       "    </tr>\n",
       "    <tr>\n",
       "      <th>50%</th>\n",
       "      <td>140000.000000</td>\n",
       "      <td>33.000000</td>\n",
       "      <td>0.000000</td>\n",
       "      <td>0.000000</td>\n",
       "      <td>0.000000</td>\n",
       "      <td>0.000000</td>\n",
       "      <td>0.000000</td>\n",
       "      <td>0.000000</td>\n",
       "      <td>22246.000000</td>\n",
       "      <td>21202.000000</td>\n",
       "      <td>19905.50000</td>\n",
       "      <td>19072.000000</td>\n",
       "      <td>18071.000000</td>\n",
       "      <td>16977.000000</td>\n",
       "      <td>2081.500000</td>\n",
       "      <td>2.000000e+03</td>\n",
       "      <td>1800.000000</td>\n",
       "      <td>1500.000000</td>\n",
       "      <td>1500.000000</td>\n",
       "      <td>1500.000000</td>\n",
       "    </tr>\n",
       "    <tr>\n",
       "      <th>75%</th>\n",
       "      <td>240000.000000</td>\n",
       "      <td>40.000000</td>\n",
       "      <td>0.000000</td>\n",
       "      <td>0.000000</td>\n",
       "      <td>0.000000</td>\n",
       "      <td>0.000000</td>\n",
       "      <td>0.000000</td>\n",
       "      <td>0.000000</td>\n",
       "      <td>67681.000000</td>\n",
       "      <td>64412.750000</td>\n",
       "      <td>60164.75000</td>\n",
       "      <td>54093.750000</td>\n",
       "      <td>49906.500000</td>\n",
       "      <td>48680.750000</td>\n",
       "      <td>5019.000000</td>\n",
       "      <td>5.000000e+03</td>\n",
       "      <td>4500.000000</td>\n",
       "      <td>4000.000000</td>\n",
       "      <td>4000.000000</td>\n",
       "      <td>4000.000000</td>\n",
       "    </tr>\n",
       "    <tr>\n",
       "      <th>max</th>\n",
       "      <td>780000.000000</td>\n",
       "      <td>75.000000</td>\n",
       "      <td>8.000000</td>\n",
       "      <td>7.000000</td>\n",
       "      <td>8.000000</td>\n",
       "      <td>8.000000</td>\n",
       "      <td>8.000000</td>\n",
       "      <td>8.000000</td>\n",
       "      <td>613860.000000</td>\n",
       "      <td>605943.000000</td>\n",
       "      <td>597415.00000</td>\n",
       "      <td>616836.000000</td>\n",
       "      <td>587067.000000</td>\n",
       "      <td>568638.000000</td>\n",
       "      <td>493358.000000</td>\n",
       "      <td>1.227082e+06</td>\n",
       "      <td>417588.000000</td>\n",
       "      <td>292962.000000</td>\n",
       "      <td>417990.000000</td>\n",
       "      <td>528666.000000</td>\n",
       "    </tr>\n",
       "  </tbody>\n",
       "</table>\n",
       "</div>"
      ],
      "text/plain": [
       "               limit           age        ps-sep        ps-aug        ps-jul  \\\n",
       "count   10000.000000  10000.000000  10000.000000  10000.000000  10000.000000   \n",
       "mean   167197.000000     32.020200     -0.004000     -0.127800     -0.175700   \n",
       "std    128975.488596     13.843119      1.132834      1.200921      1.193554   \n",
       "min     10000.000000     -1.000000     -2.000000     -2.000000     -2.000000   \n",
       "25%     50000.000000     26.000000     -1.000000     -1.000000     -1.000000   \n",
       "50%    140000.000000     33.000000      0.000000      0.000000      0.000000   \n",
       "75%    240000.000000     40.000000      0.000000      0.000000      0.000000   \n",
       "max    780000.000000     75.000000      8.000000      7.000000      8.000000   \n",
       "\n",
       "             ps-jun        ps-may        ps-apr         ba-sep         ba-aug  \\\n",
       "count  10000.000000  10000.000000  10000.000000   10000.000000   10000.000000   \n",
       "mean      -0.234300     -0.263700     -0.297400   51490.704100   49239.438400   \n",
       "std        1.169333      1.147386      1.147295   73740.383345   70777.470286   \n",
       "min       -2.000000     -2.000000     -2.000000  -14386.000000  -69777.000000   \n",
       "25%       -1.000000     -1.000000     -1.000000    3545.250000    2899.250000   \n",
       "50%        0.000000      0.000000      0.000000   22246.000000   21202.000000   \n",
       "75%        0.000000      0.000000      0.000000   67681.000000   64412.750000   \n",
       "max        8.000000      8.000000      8.000000  613860.000000  605943.000000   \n",
       "\n",
       "             ba-jul         ba-jun         ba-may         ba-apr  \\\n",
       "count   10000.00000   10000.000000   10000.000000   10000.000000   \n",
       "mean    46957.46680   43306.114300   40182.130200   38621.582700   \n",
       "std     68948.62697   64519.910263   60732.330157   59325.339137   \n",
       "min    -61506.00000  -24303.000000  -81334.000000 -209051.000000   \n",
       "25%      2442.50000    2203.250000    1650.000000    1150.000000   \n",
       "50%     19905.50000   19072.000000   18071.000000   16977.000000   \n",
       "75%     60164.75000   54093.750000   49906.500000   48680.750000   \n",
       "max    597415.00000  616836.000000  587067.000000  568638.000000   \n",
       "\n",
       "              pa-sep        pa-aug         pa-jul         pa-jun  \\\n",
       "count   10000.000000  1.000000e+04   10000.000000   10000.000000   \n",
       "mean     5651.344900  5.973676e+03    5131.898600    4719.769200   \n",
       "std     15835.839092  2.251175e+04   15416.402957   14483.407778   \n",
       "min         0.000000  0.000000e+00       0.000000       0.000000   \n",
       "25%       997.000000  7.800000e+02     390.000000     261.500000   \n",
       "50%      2081.500000  2.000000e+03    1800.000000    1500.000000   \n",
       "75%      5019.000000  5.000000e+03    4500.000000    4000.000000   \n",
       "max    493358.000000  1.227082e+06  417588.000000  292962.000000   \n",
       "\n",
       "              pa-may         pa-apr  \n",
       "count   10000.000000   10000.000000  \n",
       "mean     4734.702900    5480.147400  \n",
       "std     14912.375475   19361.411204  \n",
       "min         0.000000       0.000000  \n",
       "25%       200.000000     100.000000  \n",
       "50%      1500.000000    1500.000000  \n",
       "75%      4000.000000    4000.000000  \n",
       "max    417990.000000  528666.000000  "
      ]
     },
     "execution_count": 4,
     "metadata": {},
     "output_type": "execute_result"
    }
   ],
   "source": [
    "cc.describe()"
   ]
  },
  {
   "cell_type": "code",
   "execution_count": 5,
   "metadata": {},
   "outputs": [
    {
     "data": {
      "text/plain": [
       "limit                0\n",
       "sex                100\n",
       "education          127\n",
       "status            1822\n",
       "age                  0\n",
       "ps-sep               0\n",
       "ps-aug               0\n",
       "ps-jul               0\n",
       "ps-jun               0\n",
       "ps-may               0\n",
       "ps-apr               0\n",
       "ba-sep               0\n",
       "ba-aug               0\n",
       "ba-jul               0\n",
       "ba-jun               0\n",
       "ba-may               0\n",
       "ba-apr               0\n",
       "pa-sep               0\n",
       "pa-aug               0\n",
       "pa-jul               0\n",
       "pa-jun               0\n",
       "pa-may               0\n",
       "pa-apr               0\n",
       "credit_default       0\n",
       "dtype: int64"
      ]
     },
     "execution_count": 5,
     "metadata": {},
     "output_type": "execute_result"
    }
   ],
   "source": [
    "cc.isnull().sum()"
   ]
  },
  {
   "cell_type": "markdown",
   "metadata": {},
   "source": [
    "Data understanding\n",
    "==============="
   ]
  },
  {
   "cell_type": "markdown",
   "metadata": {},
   "source": [
    "Sex\n",
    "--------"
   ]
  },
  {
   "cell_type": "code",
   "execution_count": 70,
   "metadata": {},
   "outputs": [
    {
     "data": {
      "text/plain": [
       "count       9900\n",
       "unique         2\n",
       "top       female\n",
       "freq        6032\n",
       "Name: sex, dtype: object"
      ]
     },
     "execution_count": 70,
     "metadata": {},
     "output_type": "execute_result"
    }
   ],
   "source": [
    "cc['sex'].describe()"
   ]
  },
  {
   "cell_type": "code",
   "execution_count": 6,
   "metadata": {},
   "outputs": [
    {
     "data": {
      "text/plain": [
       "array(['male', 'female', nan], dtype=object)"
      ]
     },
     "execution_count": 6,
     "metadata": {},
     "output_type": "execute_result"
    }
   ],
   "source": [
    "cc['sex'].unique()"
   ]
  },
  {
   "cell_type": "code",
   "execution_count": 7,
   "metadata": {},
   "outputs": [
    {
     "data": {
      "text/plain": [
       "100"
      ]
     },
     "execution_count": 7,
     "metadata": {},
     "output_type": "execute_result"
    }
   ],
   "source": [
    "cc.isnull().sum()['sex']"
   ]
  },
  {
   "cell_type": "code",
   "execution_count": 8,
   "metadata": {},
   "outputs": [
    {
     "data": {
      "text/html": [
       "<div>\n",
       "<style scoped>\n",
       "    .dataframe tbody tr th:only-of-type {\n",
       "        vertical-align: middle;\n",
       "    }\n",
       "\n",
       "    .dataframe tbody tr th {\n",
       "        vertical-align: top;\n",
       "    }\n",
       "\n",
       "    .dataframe thead th {\n",
       "        text-align: right;\n",
       "    }\n",
       "</style>\n",
       "<table border=\"1\" class=\"dataframe\">\n",
       "  <thead>\n",
       "    <tr style=\"text-align: right;\">\n",
       "      <th>credit_default</th>\n",
       "      <th>no</th>\n",
       "      <th>yes</th>\n",
       "    </tr>\n",
       "    <tr>\n",
       "      <th>sex</th>\n",
       "      <th></th>\n",
       "      <th></th>\n",
       "    </tr>\n",
       "  </thead>\n",
       "  <tbody>\n",
       "    <tr>\n",
       "      <th>female</th>\n",
       "      <td>4803</td>\n",
       "      <td>1229</td>\n",
       "    </tr>\n",
       "    <tr>\n",
       "      <th>male</th>\n",
       "      <td>2904</td>\n",
       "      <td>964</td>\n",
       "    </tr>\n",
       "  </tbody>\n",
       "</table>\n",
       "</div>"
      ],
      "text/plain": [
       "credit_default    no   yes\n",
       "sex                       \n",
       "female          4803  1229\n",
       "male            2904   964"
      ]
     },
     "execution_count": 8,
     "metadata": {},
     "output_type": "execute_result"
    }
   ],
   "source": [
    "sex_default = pd.crosstab(cc['sex'], cc['credit_default'])\n",
    "sex_default"
   ]
  },
  {
   "cell_type": "code",
   "execution_count": 44,
   "metadata": {},
   "outputs": [
    {
     "data": {
      "image/png": "[encoded data removed]",
      "text/plain": [
       "<Figure size 432x288 with 1 Axes>"
      ]
     },
     "metadata": {
      "needs_background": "light"
     },
     "output_type": "display_data"
    }
   ],
   "source": [
    "sex_default.plot(kind='bar', stacked=True, title='Credit card default by Customer sex')\n",
    "plt.xlabel('Customer sex')\n",
    "plt.ylabel('Default rate')\n",
    "plt.show()"
   ]
  },
  {
   "cell_type": "code",
   "execution_count": 9,
   "metadata": {},
   "outputs": [
    {
     "data": {
      "text/html": [
       "<div>\n",
       "<style scoped>\n",
       "    .dataframe tbody tr th:only-of-type {\n",
       "        vertical-align: middle;\n",
       "    }\n",
       "\n",
       "    .dataframe tbody tr th {\n",
       "        vertical-align: top;\n",
       "    }\n",
       "\n",
       "    .dataframe thead th {\n",
       "        text-align: right;\n",
       "    }\n",
       "</style>\n",
       "<table border=\"1\" class=\"dataframe\">\n",
       "  <thead>\n",
       "    <tr style=\"text-align: right;\">\n",
       "      <th>credit_default</th>\n",
       "      <th>no</th>\n",
       "      <th>yes</th>\n",
       "    </tr>\n",
       "    <tr>\n",
       "      <th>sex</th>\n",
       "      <th></th>\n",
       "      <th></th>\n",
       "    </tr>\n",
       "  </thead>\n",
       "  <tbody>\n",
       "    <tr>\n",
       "      <th>female</th>\n",
       "      <td>0.796253</td>\n",
       "      <td>0.203747</td>\n",
       "    </tr>\n",
       "    <tr>\n",
       "      <th>male</th>\n",
       "      <td>0.750776</td>\n",
       "      <td>0.249224</td>\n",
       "    </tr>\n",
       "  </tbody>\n",
       "</table>\n",
       "</div>"
      ],
      "text/plain": [
       "credit_default        no       yes\n",
       "sex                               \n",
       "female          0.796253  0.203747\n",
       "male            0.750776  0.249224"
      ]
     },
     "execution_count": 9,
     "metadata": {},
     "output_type": "execute_result"
    }
   ],
   "source": [
    "sex_default_norm = sex_default.div(sex_default.sum(1).astype(float), axis=0)\n",
    "sex_default_norm"
   ]
  },
  {
   "cell_type": "code",
   "execution_count": 64,
   "metadata": {},
   "outputs": [
    {
     "data": {
      "image/png": "[encoded data removed]",
      "text/plain": [
       "<Figure size 432x288 with 1 Axes>"
      ]
     },
     "metadata": {
      "needs_background": "light"
     },
     "output_type": "display_data"
    }
   ],
   "source": [
    "sex_default_norm.plot(kind='bar', stacked=True, title='Credit card default by Customer sex')\n",
    "plt.xlabel('Customer sex')\n",
    "plt.ylabel('Default rate normalized')\n",
    "plt.show()"
   ]
  },
  {
   "cell_type": "markdown",
   "metadata": {},
   "source": [
    "Education\n",
    "--------"
   ]
  },
  {
   "cell_type": "code",
   "execution_count": 71,
   "metadata": {},
   "outputs": [
    {
     "data": {
      "text/plain": [
       "count           9873\n",
       "unique             4\n",
       "top       university\n",
       "freq            4685\n",
       "Name: education, dtype: object"
      ]
     },
     "execution_count": 71,
     "metadata": {},
     "output_type": "execute_result"
    }
   ],
   "source": [
    "cc['education'].describe()"
   ]
  },
  {
   "cell_type": "code",
   "execution_count": 11,
   "metadata": {},
   "outputs": [
    {
     "data": {
      "text/plain": [
       "array(['graduate school', 'university', 'high school', nan, 'others'],\n",
       "      dtype=object)"
      ]
     },
     "execution_count": 11,
     "metadata": {},
     "output_type": "execute_result"
    }
   ],
   "source": [
    "cc['education'].unique()"
   ]
  },
  {
   "cell_type": "code",
   "execution_count": 12,
   "metadata": {},
   "outputs": [
    {
     "data": {
      "text/plain": [
       "127"
      ]
     },
     "execution_count": 12,
     "metadata": {},
     "output_type": "execute_result"
    }
   ],
   "source": [
    "cc.isnull().sum()['education']"
   ]
  },
  {
   "cell_type": "code",
   "execution_count": 13,
   "metadata": {},
   "outputs": [
    {
     "data": {
      "text/html": [
       "<div>\n",
       "<style scoped>\n",
       "    .dataframe tbody tr th:only-of-type {\n",
       "        vertical-align: middle;\n",
       "    }\n",
       "\n",
       "    .dataframe tbody tr th {\n",
       "        vertical-align: top;\n",
       "    }\n",
       "\n",
       "    .dataframe thead th {\n",
       "        text-align: right;\n",
       "    }\n",
       "</style>\n",
       "<table border=\"1\" class=\"dataframe\">\n",
       "  <thead>\n",
       "    <tr style=\"text-align: right;\">\n",
       "      <th>credit_default</th>\n",
       "      <th>no</th>\n",
       "      <th>yes</th>\n",
       "    </tr>\n",
       "    <tr>\n",
       "      <th>education</th>\n",
       "      <th></th>\n",
       "      <th></th>\n",
       "    </tr>\n",
       "  </thead>\n",
       "  <tbody>\n",
       "    <tr>\n",
       "      <th>graduate school</th>\n",
       "      <td>2813</td>\n",
       "      <td>667</td>\n",
       "    </tr>\n",
       "    <tr>\n",
       "      <th>high school</th>\n",
       "      <td>1286</td>\n",
       "      <td>386</td>\n",
       "    </tr>\n",
       "    <tr>\n",
       "      <th>others</th>\n",
       "      <td>34</td>\n",
       "      <td>2</td>\n",
       "    </tr>\n",
       "    <tr>\n",
       "      <th>university</th>\n",
       "      <td>3534</td>\n",
       "      <td>1151</td>\n",
       "    </tr>\n",
       "  </tbody>\n",
       "</table>\n",
       "</div>"
      ],
      "text/plain": [
       "credit_default     no   yes\n",
       "education                  \n",
       "graduate school  2813   667\n",
       "high school      1286   386\n",
       "others             34     2\n",
       "university       3534  1151"
      ]
     },
     "execution_count": 13,
     "metadata": {},
     "output_type": "execute_result"
    }
   ],
   "source": [
    "education_default = pd.crosstab(cc['education'], cc['credit_default'])\n",
    "education_default"
   ]
  },
  {
   "cell_type": "code",
   "execution_count": 43,
   "metadata": {},
   "outputs": [
    {
     "data": {
      "image/png": "[encoded data removed]",
      "text/plain": [
       "<Figure size 432x288 with 1 Axes>"
      ]
     },
     "metadata": {
      "needs_background": "light"
     },
     "output_type": "display_data"
    }
   ],
   "source": [
    "education_default.plot(kind='bar', stacked=True, title='Credit card default by customer education')\n",
    "plt.xlabel('Education')\n",
    "plt.ylabel('Default rate')\n",
    "plt.show()"
   ]
  },
  {
   "cell_type": "code",
   "execution_count": 14,
   "metadata": {},
   "outputs": [
    {
     "data": {
      "text/html": [
       "<div>\n",
       "<style scoped>\n",
       "    .dataframe tbody tr th:only-of-type {\n",
       "        vertical-align: middle;\n",
       "    }\n",
       "\n",
       "    .dataframe tbody tr th {\n",
       "        vertical-align: top;\n",
       "    }\n",
       "\n",
       "    .dataframe thead th {\n",
       "        text-align: right;\n",
       "    }\n",
       "</style>\n",
       "<table border=\"1\" class=\"dataframe\">\n",
       "  <thead>\n",
       "    <tr style=\"text-align: right;\">\n",
       "      <th>credit_default</th>\n",
       "      <th>no</th>\n",
       "      <th>yes</th>\n",
       "    </tr>\n",
       "    <tr>\n",
       "      <th>education</th>\n",
       "      <th></th>\n",
       "      <th></th>\n",
       "    </tr>\n",
       "  </thead>\n",
       "  <tbody>\n",
       "    <tr>\n",
       "      <th>graduate school</th>\n",
       "      <td>0.808333</td>\n",
       "      <td>0.191667</td>\n",
       "    </tr>\n",
       "    <tr>\n",
       "      <th>high school</th>\n",
       "      <td>0.769139</td>\n",
       "      <td>0.230861</td>\n",
       "    </tr>\n",
       "    <tr>\n",
       "      <th>others</th>\n",
       "      <td>0.944444</td>\n",
       "      <td>0.055556</td>\n",
       "    </tr>\n",
       "    <tr>\n",
       "      <th>university</th>\n",
       "      <td>0.754322</td>\n",
       "      <td>0.245678</td>\n",
       "    </tr>\n",
       "  </tbody>\n",
       "</table>\n",
       "</div>"
      ],
      "text/plain": [
       "credit_default         no       yes\n",
       "education                          \n",
       "graduate school  0.808333  0.191667\n",
       "high school      0.769139  0.230861\n",
       "others           0.944444  0.055556\n",
       "university       0.754322  0.245678"
      ]
     },
     "execution_count": 14,
     "metadata": {},
     "output_type": "execute_result"
    }
   ],
   "source": [
    "education_default_norm = education_default.div(education_default.sum(1).astype(float), axis=0)\n",
    "education_default_norm"
   ]
  },
  {
   "cell_type": "code",
   "execution_count": 63,
   "metadata": {},
   "outputs": [
    {
     "data": {
      "image/png": "[encoded data removed]",
      "text/plain": [
       "<Figure size 432x288 with 1 Axes>"
      ]
     },
     "metadata": {
      "needs_background": "light"
     },
     "output_type": "display_data"
    }
   ],
   "source": [
    "education_default_norm.plot(kind='bar', stacked=True, title='Credit card default by customer education')\n",
    "plt.xlabel('Education')\n",
    "plt.ylabel('Default rate normalized')\n",
    "plt.show()"
   ]
  },
  {
   "cell_type": "markdown",
   "metadata": {},
   "source": [
    "Status\n",
    "--------"
   ]
  },
  {
   "cell_type": "code",
   "execution_count": 72,
   "metadata": {},
   "outputs": [
    {
     "data": {
      "text/plain": [
       "count       8178\n",
       "unique         3\n",
       "top       single\n",
       "freq        4346\n",
       "Name: status, dtype: object"
      ]
     },
     "execution_count": 72,
     "metadata": {},
     "output_type": "execute_result"
    }
   ],
   "source": [
    "cc['status'].describe()"
   ]
  },
  {
   "cell_type": "code",
   "execution_count": 16,
   "metadata": {},
   "outputs": [
    {
     "data": {
      "text/plain": [
       "array([nan, 'married', 'single', 'others'], dtype=object)"
      ]
     },
     "execution_count": 16,
     "metadata": {},
     "output_type": "execute_result"
    }
   ],
   "source": [
    "cc['status'].unique()"
   ]
  },
  {
   "cell_type": "code",
   "execution_count": 17,
   "metadata": {},
   "outputs": [
    {
     "data": {
      "text/plain": [
       "1822"
      ]
     },
     "execution_count": 17,
     "metadata": {},
     "output_type": "execute_result"
    }
   ],
   "source": [
    "cc.isnull().sum()['status']"
   ]
  },
  {
   "cell_type": "code",
   "execution_count": 18,
   "metadata": {},
   "outputs": [
    {
     "data": {
      "text/html": [
       "<div>\n",
       "<style scoped>\n",
       "    .dataframe tbody tr th:only-of-type {\n",
       "        vertical-align: middle;\n",
       "    }\n",
       "\n",
       "    .dataframe tbody tr th {\n",
       "        vertical-align: top;\n",
       "    }\n",
       "\n",
       "    .dataframe thead th {\n",
       "        text-align: right;\n",
       "    }\n",
       "</style>\n",
       "<table border=\"1\" class=\"dataframe\">\n",
       "  <thead>\n",
       "    <tr style=\"text-align: right;\">\n",
       "      <th>credit_default</th>\n",
       "      <th>no</th>\n",
       "      <th>yes</th>\n",
       "    </tr>\n",
       "    <tr>\n",
       "      <th>status</th>\n",
       "      <th></th>\n",
       "      <th></th>\n",
       "    </tr>\n",
       "  </thead>\n",
       "  <tbody>\n",
       "    <tr>\n",
       "      <th>married</th>\n",
       "      <td>2888</td>\n",
       "      <td>869</td>\n",
       "    </tr>\n",
       "    <tr>\n",
       "      <th>others</th>\n",
       "      <td>50</td>\n",
       "      <td>25</td>\n",
       "    </tr>\n",
       "    <tr>\n",
       "      <th>single</th>\n",
       "      <td>3458</td>\n",
       "      <td>888</td>\n",
       "    </tr>\n",
       "  </tbody>\n",
       "</table>\n",
       "</div>"
      ],
      "text/plain": [
       "credit_default    no  yes\n",
       "status                   \n",
       "married         2888  869\n",
       "others            50   25\n",
       "single          3458  888"
      ]
     },
     "execution_count": 18,
     "metadata": {},
     "output_type": "execute_result"
    }
   ],
   "source": [
    "status_default = pd.crosstab(cc['status'], cc['credit_default'])\n",
    "status_default"
   ]
  },
  {
   "cell_type": "code",
   "execution_count": 42,
   "metadata": {
    "scrolled": false
   },
   "outputs": [
    {
     "data": {
      "image/png": "[encoded data removed]",
      "text/plain": [
       "<Figure size 432x288 with 1 Axes>"
      ]
     },
     "metadata": {
      "needs_background": "light"
     },
     "output_type": "display_data"
    }
   ],
   "source": [
    "status_default.plot(kind='bar', stacked=True, title='Credit card default by customer status')\n",
    "plt.xlabel('Status')\n",
    "plt.ylabel('Default rate')\n",
    "plt.show()"
   ]
  },
  {
   "cell_type": "code",
   "execution_count": 19,
   "metadata": {
    "scrolled": true
   },
   "outputs": [
    {
     "data": {
      "text/html": [
       "<div>\n",
       "<style scoped>\n",
       "    .dataframe tbody tr th:only-of-type {\n",
       "        vertical-align: middle;\n",
       "    }\n",
       "\n",
       "    .dataframe tbody tr th {\n",
       "        vertical-align: top;\n",
       "    }\n",
       "\n",
       "    .dataframe thead th {\n",
       "        text-align: right;\n",
       "    }\n",
       "</style>\n",
       "<table border=\"1\" class=\"dataframe\">\n",
       "  <thead>\n",
       "    <tr style=\"text-align: right;\">\n",
       "      <th>credit_default</th>\n",
       "      <th>no</th>\n",
       "      <th>yes</th>\n",
       "    </tr>\n",
       "    <tr>\n",
       "      <th>status</th>\n",
       "      <th></th>\n",
       "      <th></th>\n",
       "    </tr>\n",
       "  </thead>\n",
       "  <tbody>\n",
       "    <tr>\n",
       "      <th>married</th>\n",
       "      <td>0.768698</td>\n",
       "      <td>0.231302</td>\n",
       "    </tr>\n",
       "    <tr>\n",
       "      <th>others</th>\n",
       "      <td>0.666667</td>\n",
       "      <td>0.333333</td>\n",
       "    </tr>\n",
       "    <tr>\n",
       "      <th>single</th>\n",
       "      <td>0.795674</td>\n",
       "      <td>0.204326</td>\n",
       "    </tr>\n",
       "  </tbody>\n",
       "</table>\n",
       "</div>"
      ],
      "text/plain": [
       "credit_default        no       yes\n",
       "status                            \n",
       "married         0.768698  0.231302\n",
       "others          0.666667  0.333333\n",
       "single          0.795674  0.204326"
      ]
     },
     "execution_count": 19,
     "metadata": {},
     "output_type": "execute_result"
    }
   ],
   "source": [
    "status_default_norm = status_default.div(status_default.sum(1).astype(float), axis=0)\n",
    "status_default_norm"
   ]
  },
  {
   "cell_type": "code",
   "execution_count": 65,
   "metadata": {},
   "outputs": [
    {
     "data": {
      "image/png": "[encoded data removed]",
      "text/plain": [
       "<Figure size 432x288 with 1 Axes>"
      ]
     },
     "metadata": {
      "needs_background": "light"
     },
     "output_type": "display_data"
    }
   ],
   "source": [
    "status_default_norm.plot(kind='bar', stacked=True, title='Credit card default by customer status')\n",
    "plt.xlabel('Status')\n",
    "plt.ylabel('Default rate normalized')\n",
    "plt.show()"
   ]
  },
  {
   "cell_type": "markdown",
   "metadata": {},
   "source": [
    "Age\n",
    "--------"
   ]
  },
  {
   "cell_type": "code",
   "execution_count": 21,
   "metadata": {},
   "outputs": [
    {
     "data": {
      "text/plain": [
       "count    10000.000000\n",
       "mean        32.020200\n",
       "std         13.843119\n",
       "min         -1.000000\n",
       "25%         26.000000\n",
       "50%         33.000000\n",
       "75%         40.000000\n",
       "max         75.000000\n",
       "Name: age, dtype: float64"
      ]
     },
     "execution_count": 21,
     "metadata": {},
     "output_type": "execute_result"
    }
   ],
   "source": [
    "ages = cc['age'].copy()\n",
    "ages.describe()"
   ]
  },
  {
   "cell_type": "code",
   "execution_count": 22,
   "metadata": {},
   "outputs": [
    {
     "data": {
      "text/plain": [
       "array([-1, 21, 22, 23, 24, 25, 26, 27, 28, 29, 30, 31, 32, 33, 34, 35, 36,\n",
       "       37, 38, 39, 40, 41, 42, 43, 44, 45, 46, 47, 48, 49, 50, 51, 52, 53,\n",
       "       54, 55, 56, 57, 58, 59, 60, 61, 62, 63, 64, 65, 66, 67, 68, 69, 70,\n",
       "       71, 72, 73, 75])"
      ]
     },
     "execution_count": 22,
     "metadata": {},
     "output_type": "execute_result"
    }
   ],
   "source": [
    "ages_unique = ages.unique()\n",
    "ages_unique.sort()\n",
    "ages_unique"
   ]
  },
  {
   "cell_type": "code",
   "execution_count": 23,
   "metadata": {},
   "outputs": [
    {
     "data": {
      "text/plain": [
       "55"
      ]
     },
     "execution_count": 23,
     "metadata": {},
     "output_type": "execute_result"
    }
   ],
   "source": [
    "len(ages_unique)"
   ]
  },
  {
   "cell_type": "code",
   "execution_count": 77,
   "metadata": {},
   "outputs": [
    {
     "data": {
      "text/plain": [
       "951"
      ]
     },
     "execution_count": 77,
     "metadata": {},
     "output_type": "execute_result"
    }
   ],
   "source": [
    "ages_invalid = cc[cc['age']==-1]\n",
    "ages_invalid.shape[0]"
   ]
  },
  {
   "cell_type": "code",
   "execution_count": 25,
   "metadata": {},
   "outputs": [
    {
     "data": {
      "text/plain": [
       "9049"
      ]
     },
     "execution_count": 25,
     "metadata": {},
     "output_type": "execute_result"
    }
   ],
   "source": [
    "ages_valid = cc[cc['age']>0]\n",
    "ages_valid.shape[0]"
   ]
  },
  {
   "cell_type": "code",
   "execution_count": 27,
   "metadata": {},
   "outputs": [
    {
     "data": {
      "text/plain": [
       "count    9049.000000\n",
       "mean       35.490441\n",
       "std         9.226539\n",
       "min        21.000000\n",
       "25%        28.000000\n",
       "50%        34.000000\n",
       "75%        41.000000\n",
       "max        75.000000\n",
       "Name: age, dtype: float64"
      ]
     },
     "execution_count": 27,
     "metadata": {},
     "output_type": "execute_result"
    }
   ],
   "source": [
    "ages_valid['age'].describe()"
   ]
  },
  {
   "cell_type": "code",
   "execution_count": 37,
   "metadata": {},
   "outputs": [
    {
     "data": {
      "text/html": [
       "<div>\n",
       "<style scoped>\n",
       "    .dataframe tbody tr th:only-of-type {\n",
       "        vertical-align: middle;\n",
       "    }\n",
       "\n",
       "    .dataframe tbody tr th {\n",
       "        vertical-align: top;\n",
       "    }\n",
       "\n",
       "    .dataframe thead th {\n",
       "        text-align: right;\n",
       "    }\n",
       "</style>\n",
       "<table border=\"1\" class=\"dataframe\">\n",
       "  <thead>\n",
       "    <tr style=\"text-align: right;\">\n",
       "      <th>credit_default</th>\n",
       "      <th>no</th>\n",
       "      <th>yes</th>\n",
       "    </tr>\n",
       "    <tr>\n",
       "      <th>age</th>\n",
       "      <th></th>\n",
       "      <th></th>\n",
       "    </tr>\n",
       "  </thead>\n",
       "  <tbody>\n",
       "    <tr>\n",
       "      <th>20</th>\n",
       "      <td>2226</td>\n",
       "      <td>679</td>\n",
       "    </tr>\n",
       "    <tr>\n",
       "      <th>30</th>\n",
       "      <td>2724</td>\n",
       "      <td>655</td>\n",
       "    </tr>\n",
       "    <tr>\n",
       "      <th>40</th>\n",
       "      <td>1519</td>\n",
       "      <td>432</td>\n",
       "    </tr>\n",
       "    <tr>\n",
       "      <th>50</th>\n",
       "      <td>528</td>\n",
       "      <td>184</td>\n",
       "    </tr>\n",
       "    <tr>\n",
       "      <th>60</th>\n",
       "      <td>63</td>\n",
       "      <td>27</td>\n",
       "    </tr>\n",
       "    <tr>\n",
       "      <th>70</th>\n",
       "      <td>8</td>\n",
       "      <td>4</td>\n",
       "    </tr>\n",
       "  </tbody>\n",
       "</table>\n",
       "</div>"
      ],
      "text/plain": [
       "credit_default    no  yes\n",
       "age                      \n",
       "20              2226  679\n",
       "30              2724  655\n",
       "40              1519  432\n",
       "50               528  184\n",
       "60                63   27\n",
       "70                 8    4"
      ]
     },
     "execution_count": 37,
     "metadata": {},
     "output_type": "execute_result"
    }
   ],
   "source": [
    "ages_default = pd.crosstab(ages_valid['age']//10*10, ages_valid['credit_default'])\n",
    "ages_default"
   ]
  },
  {
   "cell_type": "code",
   "execution_count": 41,
   "metadata": {},
   "outputs": [
    {
     "data": {
      "image/png": "[encoded data removed]",
      "text/plain": [
       "<Figure size 432x288 with 1 Axes>"
      ]
     },
     "metadata": {
      "needs_background": "light"
     },
     "output_type": "display_data"
    }
   ],
   "source": [
    "ages_default.plot(kind='bar', stacked=True, title='Credit card default by customer ages')\n",
    "plt.xlabel('Decade')\n",
    "plt.ylabel('Default rate')\n",
    "plt.show()"
   ]
  },
  {
   "cell_type": "code",
   "execution_count": 74,
   "metadata": {},
   "outputs": [
    {
     "data": {
      "text/html": [
       "<div>\n",
       "<style scoped>\n",
       "    .dataframe tbody tr th:only-of-type {\n",
       "        vertical-align: middle;\n",
       "    }\n",
       "\n",
       "    .dataframe tbody tr th {\n",
       "        vertical-align: top;\n",
       "    }\n",
       "\n",
       "    .dataframe thead th {\n",
       "        text-align: right;\n",
       "    }\n",
       "</style>\n",
       "<table border=\"1\" class=\"dataframe\">\n",
       "  <thead>\n",
       "    <tr style=\"text-align: right;\">\n",
       "      <th>credit_default</th>\n",
       "      <th>no</th>\n",
       "      <th>yes</th>\n",
       "    </tr>\n",
       "    <tr>\n",
       "      <th>age</th>\n",
       "      <th></th>\n",
       "      <th></th>\n",
       "    </tr>\n",
       "  </thead>\n",
       "  <tbody>\n",
       "    <tr>\n",
       "      <th>20</th>\n",
       "      <td>0.766265</td>\n",
       "      <td>0.233735</td>\n",
       "    </tr>\n",
       "    <tr>\n",
       "      <th>30</th>\n",
       "      <td>0.806156</td>\n",
       "      <td>0.193844</td>\n",
       "    </tr>\n",
       "    <tr>\n",
       "      <th>40</th>\n",
       "      <td>0.778575</td>\n",
       "      <td>0.221425</td>\n",
       "    </tr>\n",
       "    <tr>\n",
       "      <th>50</th>\n",
       "      <td>0.741573</td>\n",
       "      <td>0.258427</td>\n",
       "    </tr>\n",
       "    <tr>\n",
       "      <th>60</th>\n",
       "      <td>0.700000</td>\n",
       "      <td>0.300000</td>\n",
       "    </tr>\n",
       "    <tr>\n",
       "      <th>70</th>\n",
       "      <td>0.666667</td>\n",
       "      <td>0.333333</td>\n",
       "    </tr>\n",
       "  </tbody>\n",
       "</table>\n",
       "</div>"
      ],
      "text/plain": [
       "credit_default        no       yes\n",
       "age                               \n",
       "20              0.766265  0.233735\n",
       "30              0.806156  0.193844\n",
       "40              0.778575  0.221425\n",
       "50              0.741573  0.258427\n",
       "60              0.700000  0.300000\n",
       "70              0.666667  0.333333"
      ]
     },
     "execution_count": 74,
     "metadata": {},
     "output_type": "execute_result"
    }
   ],
   "source": [
    "ages_default_norm = status_default.div(ages_default.sum(1).astype(float), axis=0)\n",
    "ages_default_norm"
   ]
  },
  {
   "cell_type": "code",
   "execution_count": 75,
   "metadata": {},
   "outputs": [
    {
     "data": {
      "image/png": "[encoded data removed]",
      "text/plain": [
       "<Figure size 432x288 with 1 Axes>"
      ]
     },
     "metadata": {
      "needs_background": "light"
     },
     "output_type": "display_data"
    }
   ],
   "source": [
    "ages_default_norm.plot(kind='bar', stacked=True, title='Credit card default by customer ages')\n",
    "plt.xlabel('Decade')\n",
    "plt.ylabel('Default rate normalized')\n",
    "plt.show()"
   ]
  },
  {
   "cell_type": "markdown",
   "metadata": {},
   "source": [
    "Limit\n",
    "--------"
   ]
  },
  {
   "cell_type": "code",
   "execution_count": 45,
   "metadata": {},
   "outputs": [
    {
     "data": {
      "text/plain": [
       "count     10000.000000\n",
       "mean     167197.000000\n",
       "std      128975.488596\n",
       "min       10000.000000\n",
       "25%       50000.000000\n",
       "50%      140000.000000\n",
       "75%      240000.000000\n",
       "max      780000.000000\n",
       "Name: limit, dtype: float64"
      ]
     },
     "execution_count": 45,
     "metadata": {},
     "output_type": "execute_result"
    }
   ],
   "source": [
    "limits = cc['limit'].copy()\n",
    "limits.describe()"
   ]
  },
  {
   "cell_type": "code",
   "execution_count": 46,
   "metadata": {},
   "outputs": [
    {
     "data": {
      "text/plain": [
       "array([ 10000,  20000,  30000,  40000,  50000,  60000,  70000,  80000,\n",
       "        90000, 100000, 110000, 120000, 130000, 140000, 150000, 160000,\n",
       "       170000, 180000, 190000, 200000, 210000, 220000, 230000, 240000,\n",
       "       250000, 260000, 270000, 280000, 290000, 300000, 310000, 320000,\n",
       "       330000, 340000, 350000, 360000, 370000, 380000, 390000, 400000,\n",
       "       410000, 420000, 430000, 440000, 450000, 460000, 470000, 480000,\n",
       "       490000, 500000, 510000, 520000, 530000, 540000, 550000, 560000,\n",
       "       570000, 580000, 590000, 600000, 610000, 620000, 630000, 640000,\n",
       "       650000, 660000, 680000, 700000, 710000, 740000, 750000, 780000])"
      ]
     },
     "execution_count": 46,
     "metadata": {},
     "output_type": "execute_result"
    }
   ],
   "source": [
    "limits_unique = limits.unique()\n",
    "limits_unique.sort()\n",
    "limits_unique"
   ]
  },
  {
   "cell_type": "code",
   "execution_count": 47,
   "metadata": {},
   "outputs": [
    {
     "data": {
      "text/plain": [
       "72"
      ]
     },
     "execution_count": 47,
     "metadata": {},
     "output_type": "execute_result"
    }
   ],
   "source": [
    "len(limits_unique)"
   ]
  },
  {
   "cell_type": "code",
   "execution_count": 57,
   "metadata": {},
   "outputs": [
    {
     "data": {
      "text/html": [
       "<div>\n",
       "<style scoped>\n",
       "    .dataframe tbody tr th:only-of-type {\n",
       "        vertical-align: middle;\n",
       "    }\n",
       "\n",
       "    .dataframe tbody tr th {\n",
       "        vertical-align: top;\n",
       "    }\n",
       "\n",
       "    .dataframe thead th {\n",
       "        text-align: right;\n",
       "    }\n",
       "</style>\n",
       "<table border=\"1\" class=\"dataframe\">\n",
       "  <thead>\n",
       "    <tr style=\"text-align: right;\">\n",
       "      <th>credit_default</th>\n",
       "      <th>no</th>\n",
       "      <th>yes</th>\n",
       "    </tr>\n",
       "    <tr>\n",
       "      <th>limit</th>\n",
       "      <th></th>\n",
       "      <th></th>\n",
       "    </tr>\n",
       "  </thead>\n",
       "  <tbody>\n",
       "    <tr>\n",
       "      <th>0</th>\n",
       "      <td>878</td>\n",
       "      <td>545</td>\n",
       "    </tr>\n",
       "    <tr>\n",
       "      <th>50000</th>\n",
       "      <td>1754</td>\n",
       "      <td>633</td>\n",
       "    </tr>\n",
       "    <tr>\n",
       "      <th>100000</th>\n",
       "      <td>1014</td>\n",
       "      <td>289</td>\n",
       "    </tr>\n",
       "    <tr>\n",
       "      <th>150000</th>\n",
       "      <td>969</td>\n",
       "      <td>211</td>\n",
       "    </tr>\n",
       "    <tr>\n",
       "      <th>200000</th>\n",
       "      <td>1126</td>\n",
       "      <td>236</td>\n",
       "    </tr>\n",
       "    <tr>\n",
       "      <th>250000</th>\n",
       "      <td>571</td>\n",
       "      <td>89</td>\n",
       "    </tr>\n",
       "    <tr>\n",
       "      <th>300000</th>\n",
       "      <td>434</td>\n",
       "      <td>56</td>\n",
       "    </tr>\n",
       "    <tr>\n",
       "      <th>350000</th>\n",
       "      <td>426</td>\n",
       "      <td>75</td>\n",
       "    </tr>\n",
       "    <tr>\n",
       "      <th>400000</th>\n",
       "      <td>210</td>\n",
       "      <td>30</td>\n",
       "    </tr>\n",
       "    <tr>\n",
       "      <th>450000</th>\n",
       "      <td>141</td>\n",
       "      <td>20</td>\n",
       "    </tr>\n",
       "    <tr>\n",
       "      <th>500000</th>\n",
       "      <td>232</td>\n",
       "      <td>20</td>\n",
       "    </tr>\n",
       "    <tr>\n",
       "      <th>550000</th>\n",
       "      <td>13</td>\n",
       "      <td>4</td>\n",
       "    </tr>\n",
       "    <tr>\n",
       "      <th>600000</th>\n",
       "      <td>11</td>\n",
       "      <td>2</td>\n",
       "    </tr>\n",
       "    <tr>\n",
       "      <th>650000</th>\n",
       "      <td>3</td>\n",
       "      <td>0</td>\n",
       "    </tr>\n",
       "    <tr>\n",
       "      <th>700000</th>\n",
       "      <td>4</td>\n",
       "      <td>2</td>\n",
       "    </tr>\n",
       "    <tr>\n",
       "      <th>750000</th>\n",
       "      <td>2</td>\n",
       "      <td>0</td>\n",
       "    </tr>\n",
       "  </tbody>\n",
       "</table>\n",
       "</div>"
      ],
      "text/plain": [
       "credit_default    no  yes\n",
       "limit                    \n",
       "0                878  545\n",
       "50000           1754  633\n",
       "100000          1014  289\n",
       "150000           969  211\n",
       "200000          1126  236\n",
       "250000           571   89\n",
       "300000           434   56\n",
       "350000           426   75\n",
       "400000           210   30\n",
       "450000           141   20\n",
       "500000           232   20\n",
       "550000            13    4\n",
       "600000            11    2\n",
       "650000             3    0\n",
       "700000             4    2\n",
       "750000             2    0"
      ]
     },
     "execution_count": 57,
     "metadata": {},
     "output_type": "execute_result"
    }
   ],
   "source": [
    "limits_default = pd.crosstab(cc['limit']//50000*50000, cc['credit_default'])\n",
    "limits_default"
   ]
  },
  {
   "cell_type": "code",
   "execution_count": 58,
   "metadata": {},
   "outputs": [
    {
     "data": {
      "image/png": "[encoded data removed]",
      "text/plain": [
       "<Figure size 432x288 with 1 Axes>"
      ]
     },
     "metadata": {
      "needs_background": "light"
     },
     "output_type": "display_data"
    }
   ],
   "source": [
    "limits_default.plot(kind='bar', stacked=True, title='Credit card default by customer limit')\n",
    "plt.xlabel('Limit')\n",
    "plt.ylabel('Default rate')\n",
    "plt.show()"
   ]
  },
  {
   "cell_type": "code",
   "execution_count": 59,
   "metadata": {},
   "outputs": [
    {
     "data": {
      "text/html": [
       "<div>\n",
       "<style scoped>\n",
       "    .dataframe tbody tr th:only-of-type {\n",
       "        vertical-align: middle;\n",
       "    }\n",
       "\n",
       "    .dataframe tbody tr th {\n",
       "        vertical-align: top;\n",
       "    }\n",
       "\n",
       "    .dataframe thead th {\n",
       "        text-align: right;\n",
       "    }\n",
       "</style>\n",
       "<table border=\"1\" class=\"dataframe\">\n",
       "  <thead>\n",
       "    <tr style=\"text-align: right;\">\n",
       "      <th>credit_default</th>\n",
       "      <th>no</th>\n",
       "      <th>yes</th>\n",
       "    </tr>\n",
       "    <tr>\n",
       "      <th>limit</th>\n",
       "      <th></th>\n",
       "      <th></th>\n",
       "    </tr>\n",
       "  </thead>\n",
       "  <tbody>\n",
       "    <tr>\n",
       "      <th>0</th>\n",
       "      <td>0.617006</td>\n",
       "      <td>0.382994</td>\n",
       "    </tr>\n",
       "    <tr>\n",
       "      <th>50000</th>\n",
       "      <td>0.734814</td>\n",
       "      <td>0.265186</td>\n",
       "    </tr>\n",
       "    <tr>\n",
       "      <th>100000</th>\n",
       "      <td>0.778204</td>\n",
       "      <td>0.221796</td>\n",
       "    </tr>\n",
       "    <tr>\n",
       "      <th>150000</th>\n",
       "      <td>0.821186</td>\n",
       "      <td>0.178814</td>\n",
       "    </tr>\n",
       "    <tr>\n",
       "      <th>200000</th>\n",
       "      <td>0.826725</td>\n",
       "      <td>0.173275</td>\n",
       "    </tr>\n",
       "    <tr>\n",
       "      <th>250000</th>\n",
       "      <td>0.865152</td>\n",
       "      <td>0.134848</td>\n",
       "    </tr>\n",
       "    <tr>\n",
       "      <th>300000</th>\n",
       "      <td>0.885714</td>\n",
       "      <td>0.114286</td>\n",
       "    </tr>\n",
       "    <tr>\n",
       "      <th>350000</th>\n",
       "      <td>0.850299</td>\n",
       "      <td>0.149701</td>\n",
       "    </tr>\n",
       "    <tr>\n",
       "      <th>400000</th>\n",
       "      <td>0.875000</td>\n",
       "      <td>0.125000</td>\n",
       "    </tr>\n",
       "    <tr>\n",
       "      <th>450000</th>\n",
       "      <td>0.875776</td>\n",
       "      <td>0.124224</td>\n",
       "    </tr>\n",
       "    <tr>\n",
       "      <th>500000</th>\n",
       "      <td>0.920635</td>\n",
       "      <td>0.079365</td>\n",
       "    </tr>\n",
       "    <tr>\n",
       "      <th>550000</th>\n",
       "      <td>0.764706</td>\n",
       "      <td>0.235294</td>\n",
       "    </tr>\n",
       "    <tr>\n",
       "      <th>600000</th>\n",
       "      <td>0.846154</td>\n",
       "      <td>0.153846</td>\n",
       "    </tr>\n",
       "    <tr>\n",
       "      <th>650000</th>\n",
       "      <td>1.000000</td>\n",
       "      <td>0.000000</td>\n",
       "    </tr>\n",
       "    <tr>\n",
       "      <th>700000</th>\n",
       "      <td>0.666667</td>\n",
       "      <td>0.333333</td>\n",
       "    </tr>\n",
       "    <tr>\n",
       "      <th>750000</th>\n",
       "      <td>1.000000</td>\n",
       "      <td>0.000000</td>\n",
       "    </tr>\n",
       "  </tbody>\n",
       "</table>\n",
       "</div>"
      ],
      "text/plain": [
       "credit_default        no       yes\n",
       "limit                             \n",
       "0               0.617006  0.382994\n",
       "50000           0.734814  0.265186\n",
       "100000          0.778204  0.221796\n",
       "150000          0.821186  0.178814\n",
       "200000          0.826725  0.173275\n",
       "250000          0.865152  0.134848\n",
       "300000          0.885714  0.114286\n",
       "350000          0.850299  0.149701\n",
       "400000          0.875000  0.125000\n",
       "450000          0.875776  0.124224\n",
       "500000          0.920635  0.079365\n",
       "550000          0.764706  0.235294\n",
       "600000          0.846154  0.153846\n",
       "650000          1.000000  0.000000\n",
       "700000          0.666667  0.333333\n",
       "750000          1.000000  0.000000"
      ]
     },
     "execution_count": 59,
     "metadata": {},
     "output_type": "execute_result"
    }
   ],
   "source": [
    "limits_default_norm = limits_default.div(limits_default.sum(1).astype(float), axis=0)\n",
    "limits_default_norm"
   ]
  },
  {
   "cell_type": "code",
   "execution_count": 61,
   "metadata": {
    "scrolled": true
   },
   "outputs": [
    {
     "data": {
      "image/png": "[encoded data removed]",
      "text/plain": [
       "<Figure size 432x288 with 1 Axes>"
      ]
     },
     "metadata": {
      "needs_background": "light"
     },
     "output_type": "display_data"
    }
   ],
   "source": [
    "limits_default_norm.plot(kind='bar', stacked=True, title='Credit card default by customer limit')\n",
    "plt.xlabel('Limit')\n",
    "plt.ylabel('Default rate')\n",
    "plt.show()"
   ]
  }
 ],
 "metadata": {
  "kernelspec": {
   "display_name": "Python 2",
   "language": "python",
   "name": "python2"
  },
  "language_info": {
   "codemirror_mode": {
    "name": "ipython",
    "version": 2
   },
   "file_extension": ".py",
   "mimetype": "text/x-python",
   "name": "python",
   "nbconvert_exporter": "python",
   "pygments_lexer": "ipython2",
   "version": "2.7.15"
  }
 },
 "nbformat": 4,
 "nbformat_minor": 2
}
